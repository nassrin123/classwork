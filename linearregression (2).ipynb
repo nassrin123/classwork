{
 "cells": [
  {
   "cell_type": "code",
   "execution_count": 5,
   "id": "2e8bd1a5",
   "metadata": {},
   "outputs": [
    {
     "data": {
      "text/html": [
       "<div>\n",
       "<style scoped>\n",
       "    .dataframe tbody tr th:only-of-type {\n",
       "        vertical-align: middle;\n",
       "    }\n",
       "\n",
       "    .dataframe tbody tr th {\n",
       "        vertical-align: top;\n",
       "    }\n",
       "\n",
       "    .dataframe thead th {\n",
       "        text-align: right;\n",
       "    }\n",
       "</style>\n",
       "<table border=\"1\" class=\"dataframe\">\n",
       "  <thead>\n",
       "    <tr style=\"text-align: right;\">\n",
       "      <th></th>\n",
       "      <th>temperature</th>\n",
       "      <th>humidity</th>\n",
       "      <th>windspeed</th>\n",
       "      <th>rentals</th>\n",
       "    </tr>\n",
       "  </thead>\n",
       "  <tbody>\n",
       "    <tr>\n",
       "      <th>0</th>\n",
       "      <td>46.716528</td>\n",
       "      <td>0.815969</td>\n",
       "      <td>13.669663</td>\n",
       "      <td>985</td>\n",
       "    </tr>\n",
       "    <tr>\n",
       "      <th>1</th>\n",
       "      <td>48.350239</td>\n",
       "      <td>0.800497</td>\n",
       "      <td>15.199782</td>\n",
       "      <td>801</td>\n",
       "    </tr>\n",
       "    <tr>\n",
       "      <th>2</th>\n",
       "      <td>34.212394</td>\n",
       "      <td>0.592097</td>\n",
       "      <td>13.247558</td>\n",
       "      <td>1349</td>\n",
       "    </tr>\n",
       "    <tr>\n",
       "      <th>3</th>\n",
       "      <td>34.520000</td>\n",
       "      <td>0.623196</td>\n",
       "      <td>11.687963</td>\n",
       "      <td>1562</td>\n",
       "    </tr>\n",
       "    <tr>\n",
       "      <th>4</th>\n",
       "      <td>36.800562</td>\n",
       "      <td>0.624643</td>\n",
       "      <td>13.148281</td>\n",
       "      <td>1600</td>\n",
       "    </tr>\n",
       "  </tbody>\n",
       "</table>\n",
       "</div>"
      ],
      "text/plain": [
       "   temperature  humidity  windspeed  rentals\n",
       "0    46.716528  0.815969  13.669663      985\n",
       "1    48.350239  0.800497  15.199782      801\n",
       "2    34.212394  0.592097  13.247558     1349\n",
       "3    34.520000  0.623196  11.687963     1562\n",
       "4    36.800562  0.624643  13.148281     1600"
      ]
     },
     "execution_count": 5,
     "metadata": {},
     "output_type": "execute_result"
    }
   ],
   "source": [
    "import numpy as np\n",
    "import pandas as pd\n",
    "bikes=pd.read_csv('bikes.csv')\n",
    "bikes.head()"
   ]
  },
  {
   "cell_type": "code",
   "execution_count": 6,
   "id": "7160104d",
   "metadata": {},
   "outputs": [
    {
     "name": "stdout",
     "output_type": "stream",
     "text": [
      "<class 'pandas.core.frame.DataFrame'>\n",
      "RangeIndex: 731 entries, 0 to 730\n",
      "Data columns (total 4 columns):\n",
      " #   Column       Non-Null Count  Dtype  \n",
      "---  ------       --------------  -----  \n",
      " 0   temperature  731 non-null    float64\n",
      " 1   humidity     731 non-null    float64\n",
      " 2   windspeed    731 non-null    float64\n",
      " 3   rentals      731 non-null    int64  \n",
      "dtypes: float64(3), int64(1)\n",
      "memory usage: 23.0 KB\n"
     ]
    }
   ],
   "source": [
    "bikes.info()"
   ]
  },
  {
   "cell_type": "code",
   "execution_count": 7,
   "id": "184b1e12",
   "metadata": {},
   "outputs": [
    {
     "data": {
      "text/html": [
       "<div>\n",
       "<style scoped>\n",
       "    .dataframe tbody tr th:only-of-type {\n",
       "        vertical-align: middle;\n",
       "    }\n",
       "\n",
       "    .dataframe tbody tr th {\n",
       "        vertical-align: top;\n",
       "    }\n",
       "\n",
       "    .dataframe thead th {\n",
       "        text-align: right;\n",
       "    }\n",
       "</style>\n",
       "<table border=\"1\" class=\"dataframe\">\n",
       "  <thead>\n",
       "    <tr style=\"text-align: right;\">\n",
       "      <th></th>\n",
       "      <th>temperature</th>\n",
       "      <th>humidity</th>\n",
       "      <th>windspeed</th>\n",
       "      <th>rentals</th>\n",
       "    </tr>\n",
       "  </thead>\n",
       "  <tbody>\n",
       "    <tr>\n",
       "      <th>count</th>\n",
       "      <td>731.000000</td>\n",
       "      <td>731.000000</td>\n",
       "      <td>731.000000</td>\n",
       "      <td>731.000000</td>\n",
       "    </tr>\n",
       "    <tr>\n",
       "      <th>mean</th>\n",
       "      <td>59.509553</td>\n",
       "      <td>0.486937</td>\n",
       "      <td>9.238886</td>\n",
       "      <td>4504.348837</td>\n",
       "    </tr>\n",
       "    <tr>\n",
       "      <th>std</th>\n",
       "      <td>15.486114</td>\n",
       "      <td>0.185415</td>\n",
       "      <td>3.379815</td>\n",
       "      <td>1937.211452</td>\n",
       "    </tr>\n",
       "    <tr>\n",
       "      <th>min</th>\n",
       "      <td>22.602432</td>\n",
       "      <td>0.000000</td>\n",
       "      <td>0.932208</td>\n",
       "      <td>22.000000</td>\n",
       "    </tr>\n",
       "    <tr>\n",
       "      <th>25%</th>\n",
       "      <td>46.117264</td>\n",
       "      <td>0.353548</td>\n",
       "      <td>6.863568</td>\n",
       "      <td>3152.000000</td>\n",
       "    </tr>\n",
       "    <tr>\n",
       "      <th>50%</th>\n",
       "      <td>59.758972</td>\n",
       "      <td>0.502227</td>\n",
       "      <td>9.503508</td>\n",
       "      <td>4548.000000</td>\n",
       "    </tr>\n",
       "    <tr>\n",
       "      <th>75%</th>\n",
       "      <td>73.048236</td>\n",
       "      <td>0.624671</td>\n",
       "      <td>11.814559</td>\n",
       "      <td>5956.000000</td>\n",
       "    </tr>\n",
       "    <tr>\n",
       "      <th>max</th>\n",
       "      <td>90.497028</td>\n",
       "      <td>0.972500</td>\n",
       "      <td>21.126627</td>\n",
       "      <td>8714.000000</td>\n",
       "    </tr>\n",
       "  </tbody>\n",
       "</table>\n",
       "</div>"
      ],
      "text/plain": [
       "       temperature    humidity   windspeed      rentals\n",
       "count   731.000000  731.000000  731.000000   731.000000\n",
       "mean     59.509553    0.486937    9.238886  4504.348837\n",
       "std      15.486114    0.185415    3.379815  1937.211452\n",
       "min      22.602432    0.000000    0.932208    22.000000\n",
       "25%      46.117264    0.353548    6.863568  3152.000000\n",
       "50%      59.758972    0.502227    9.503508  4548.000000\n",
       "75%      73.048236    0.624671   11.814559  5956.000000\n",
       "max      90.497028    0.972500   21.126627  8714.000000"
      ]
     },
     "execution_count": 7,
     "metadata": {},
     "output_type": "execute_result"
    }
   ],
   "source": [
    "bikes.describe()"
   ]
  },
  {
   "cell_type": "code",
   "execution_count": 8,
   "id": "300efdc4",
   "metadata": {},
   "outputs": [
    {
     "data": {
      "text/html": [
       "<div>\n",
       "<style scoped>\n",
       "    .dataframe tbody tr th:only-of-type {\n",
       "        vertical-align: middle;\n",
       "    }\n",
       "\n",
       "    .dataframe tbody tr th {\n",
       "        vertical-align: top;\n",
       "    }\n",
       "\n",
       "    .dataframe thead th {\n",
       "        text-align: right;\n",
       "    }\n",
       "</style>\n",
       "<table border=\"1\" class=\"dataframe\">\n",
       "  <thead>\n",
       "    <tr style=\"text-align: right;\">\n",
       "      <th></th>\n",
       "      <th>temperature</th>\n",
       "      <th>humidity</th>\n",
       "    </tr>\n",
       "  </thead>\n",
       "  <tbody>\n",
       "    <tr>\n",
       "      <th>temperature</th>\n",
       "      <td>1.000000</td>\n",
       "      <td>0.055479</td>\n",
       "    </tr>\n",
       "    <tr>\n",
       "      <th>humidity</th>\n",
       "      <td>0.055479</td>\n",
       "      <td>1.000000</td>\n",
       "    </tr>\n",
       "  </tbody>\n",
       "</table>\n",
       "</div>"
      ],
      "text/plain": [
       "             temperature  humidity\n",
       "temperature     1.000000  0.055479\n",
       "humidity        0.055479  1.000000"
      ]
     },
     "execution_count": 8,
     "metadata": {},
     "output_type": "execute_result"
    }
   ],
   "source": [
    "bikes[['temperature','humidity']].corr()"
   ]
  },
  {
   "cell_type": "code",
   "execution_count": 9,
   "id": "514d3651",
   "metadata": {},
   "outputs": [
    {
     "data": {
      "text/html": [
       "<div>\n",
       "<style scoped>\n",
       "    .dataframe tbody tr th:only-of-type {\n",
       "        vertical-align: middle;\n",
       "    }\n",
       "\n",
       "    .dataframe tbody tr th {\n",
       "        vertical-align: top;\n",
       "    }\n",
       "\n",
       "    .dataframe thead th {\n",
       "        text-align: right;\n",
       "    }\n",
       "</style>\n",
       "<table border=\"1\" class=\"dataframe\">\n",
       "  <thead>\n",
       "    <tr style=\"text-align: right;\">\n",
       "      <th></th>\n",
       "      <th>temperature</th>\n",
       "      <th>humidity</th>\n",
       "      <th>windspeed</th>\n",
       "      <th>rentals</th>\n",
       "    </tr>\n",
       "  </thead>\n",
       "  <tbody>\n",
       "    <tr>\n",
       "      <th>0</th>\n",
       "      <td>46.716528</td>\n",
       "      <td>0.815969</td>\n",
       "      <td>13.669663</td>\n",
       "      <td>985</td>\n",
       "    </tr>\n",
       "    <tr>\n",
       "      <th>1</th>\n",
       "      <td>48.350239</td>\n",
       "      <td>0.800497</td>\n",
       "      <td>15.199782</td>\n",
       "      <td>801</td>\n",
       "    </tr>\n",
       "    <tr>\n",
       "      <th>2</th>\n",
       "      <td>34.212394</td>\n",
       "      <td>0.592097</td>\n",
       "      <td>13.247558</td>\n",
       "      <td>1349</td>\n",
       "    </tr>\n",
       "    <tr>\n",
       "      <th>3</th>\n",
       "      <td>34.520000</td>\n",
       "      <td>0.623196</td>\n",
       "      <td>11.687963</td>\n",
       "      <td>1562</td>\n",
       "    </tr>\n",
       "    <tr>\n",
       "      <th>4</th>\n",
       "      <td>36.800562</td>\n",
       "      <td>0.624643</td>\n",
       "      <td>13.148281</td>\n",
       "      <td>1600</td>\n",
       "    </tr>\n",
       "  </tbody>\n",
       "</table>\n",
       "</div>"
      ],
      "text/plain": [
       "   temperature  humidity  windspeed  rentals\n",
       "0    46.716528  0.815969  13.669663      985\n",
       "1    48.350239  0.800497  15.199782      801\n",
       "2    34.212394  0.592097  13.247558     1349\n",
       "3    34.520000  0.623196  11.687963     1562\n",
       "4    36.800562  0.624643  13.148281     1600"
      ]
     },
     "execution_count": 9,
     "metadata": {},
     "output_type": "execute_result"
    }
   ],
   "source": [
    "import matplotlib.pyplot as plt\n",
    "%matplotlib inline\n",
    "bikes=pd.read_csv('bikes.csv')\n",
    "bikes.head()"
   ]
  },
  {
   "cell_type": "code",
   "execution_count": 10,
   "id": "33a8ff1d",
   "metadata": {},
   "outputs": [
    {
     "data": {
      "text/plain": [
       "<AxesSubplot:xlabel='humidity', ylabel='rentals'>"
      ]
     },
     "execution_count": 10,
     "metadata": {},
     "output_type": "execute_result"
    },
    {
     "data": {
      "image/png": "[encoded data removed]",
      "text/plain": [
       "<Figure size 432x288 with 1 Axes>"
      ]
     },
     "metadata": {
      "needs_background": "light"
     },
     "output_type": "display_data"
    }
   ],
   "source": [
    "bikes.plot(kind='scatter',x='humidity',y='rentals')"
   ]
  },
  {
   "cell_type": "code",
   "execution_count": 11,
   "id": "5e2bfc01",
   "metadata": {},
   "outputs": [
    {
     "data": {
      "text/plain": [
       "<AxesSubplot:xlabel='windspeed', ylabel='rentals'>"
      ]
     },
     "execution_count": 11,
     "metadata": {},
     "output_type": "execute_result"
    },
    {
     "data": {
      "image/png": "[encoded data removed]",
      "text/plain": [
       "<Figure size 432x288 with 1 Axes>"
      ]
     },
     "metadata": {
      "needs_background": "light"
     },
     "output_type": "display_data"
    }
   ],
   "source": [
    "bikes.plot(kind='scatter',x='windspeed',y='rentals')"
   ]
  },
  {
   "cell_type": "code",
   "execution_count": 12,
   "id": "46fbe114",
   "metadata": {},
   "outputs": [
    {
     "data": {
      "text/html": [
       "<div>\n",
       "<style scoped>\n",
       "    .dataframe tbody tr th:only-of-type {\n",
       "        vertical-align: middle;\n",
       "    }\n",
       "\n",
       "    .dataframe tbody tr th {\n",
       "        vertical-align: top;\n",
       "    }\n",
       "\n",
       "    .dataframe thead th {\n",
       "        text-align: right;\n",
       "    }\n",
       "</style>\n",
       "<table border=\"1\" class=\"dataframe\">\n",
       "  <thead>\n",
       "    <tr style=\"text-align: right;\">\n",
       "      <th></th>\n",
       "      <th>temperature</th>\n",
       "      <th>humidity</th>\n",
       "      <th>windspeed</th>\n",
       "      <th>rentals</th>\n",
       "    </tr>\n",
       "  </thead>\n",
       "  <tbody>\n",
       "    <tr>\n",
       "      <th>temperature</th>\n",
       "      <td>1.000000</td>\n",
       "      <td>0.055479</td>\n",
       "      <td>-0.024560</td>\n",
       "      <td>0.627494</td>\n",
       "    </tr>\n",
       "    <tr>\n",
       "      <th>humidity</th>\n",
       "      <td>0.055479</td>\n",
       "      <td>1.000000</td>\n",
       "      <td>0.898802</td>\n",
       "      <td>-0.717508</td>\n",
       "    </tr>\n",
       "    <tr>\n",
       "      <th>windspeed</th>\n",
       "      <td>-0.024560</td>\n",
       "      <td>0.898802</td>\n",
       "      <td>1.000000</td>\n",
       "      <td>-0.758180</td>\n",
       "    </tr>\n",
       "    <tr>\n",
       "      <th>rentals</th>\n",
       "      <td>0.627494</td>\n",
       "      <td>-0.717508</td>\n",
       "      <td>-0.758180</td>\n",
       "      <td>1.000000</td>\n",
       "    </tr>\n",
       "  </tbody>\n",
       "</table>\n",
       "</div>"
      ],
      "text/plain": [
       "             temperature  humidity  windspeed   rentals\n",
       "temperature     1.000000  0.055479  -0.024560  0.627494\n",
       "humidity        0.055479  1.000000   0.898802 -0.717508\n",
       "windspeed      -0.024560  0.898802   1.000000 -0.758180\n",
       "rentals         0.627494 -0.717508  -0.758180  1.000000"
      ]
     },
     "execution_count": 12,
     "metadata": {},
     "output_type": "execute_result"
    }
   ],
   "source": [
    "bikes.corr()"
   ]
  },
  {
   "cell_type": "code",
   "execution_count": 13,
   "id": "19444b18",
   "metadata": {},
   "outputs": [],
   "source": [
    "#y=coef*x1(temp)+x2(hum)+coef*x3(winds)+intercept\n",
    "#y=x1+x2+x3+c"
   ]
  },
  {
   "cell_type": "code",
   "execution_count": 14,
   "id": "62eed21c",
   "metadata": {},
   "outputs": [
    {
     "data": {
      "text/html": [
       "<div>\n",
       "<style scoped>\n",
       "    .dataframe tbody tr th:only-of-type {\n",
       "        vertical-align: middle;\n",
       "    }\n",
       "\n",
       "    .dataframe tbody tr th {\n",
       "        vertical-align: top;\n",
       "    }\n",
       "\n",
       "    .dataframe thead th {\n",
       "        text-align: right;\n",
       "    }\n",
       "</style>\n",
       "<table border=\"1\" class=\"dataframe\">\n",
       "  <thead>\n",
       "    <tr style=\"text-align: right;\">\n",
       "      <th></th>\n",
       "      <th>rentals</th>\n",
       "    </tr>\n",
       "  </thead>\n",
       "  <tbody>\n",
       "    <tr>\n",
       "      <th>0</th>\n",
       "      <td>985</td>\n",
       "    </tr>\n",
       "    <tr>\n",
       "      <th>1</th>\n",
       "      <td>801</td>\n",
       "    </tr>\n",
       "    <tr>\n",
       "      <th>2</th>\n",
       "      <td>1349</td>\n",
       "    </tr>\n",
       "    <tr>\n",
       "      <th>3</th>\n",
       "      <td>1562</td>\n",
       "    </tr>\n",
       "    <tr>\n",
       "      <th>4</th>\n",
       "      <td>1600</td>\n",
       "    </tr>\n",
       "    <tr>\n",
       "      <th>...</th>\n",
       "      <td>...</td>\n",
       "    </tr>\n",
       "    <tr>\n",
       "      <th>726</th>\n",
       "      <td>2114</td>\n",
       "    </tr>\n",
       "    <tr>\n",
       "      <th>727</th>\n",
       "      <td>3095</td>\n",
       "    </tr>\n",
       "    <tr>\n",
       "      <th>728</th>\n",
       "      <td>1341</td>\n",
       "    </tr>\n",
       "    <tr>\n",
       "      <th>729</th>\n",
       "      <td>1796</td>\n",
       "    </tr>\n",
       "    <tr>\n",
       "      <th>730</th>\n",
       "      <td>2729</td>\n",
       "    </tr>\n",
       "  </tbody>\n",
       "</table>\n",
       "<p>731 rows × 1 columns</p>\n",
       "</div>"
      ],
      "text/plain": [
       "     rentals\n",
       "0        985\n",
       "1        801\n",
       "2       1349\n",
       "3       1562\n",
       "4       1600\n",
       "..       ...\n",
       "726     2114\n",
       "727     3095\n",
       "728     1341\n",
       "729     1796\n",
       "730     2729\n",
       "\n",
       "[731 rows x 1 columns]"
      ]
     },
     "execution_count": 14,
     "metadata": {},
     "output_type": "execute_result"
    }
   ],
   "source": [
    "y=bikes[['rentals']]\n",
    "y"
   ]
  },
  {
   "cell_type": "code",
   "execution_count": 15,
   "id": "5073c7d6",
   "metadata": {},
   "outputs": [
    {
     "data": {
      "text/html": [
       "<div>\n",
       "<style scoped>\n",
       "    .dataframe tbody tr th:only-of-type {\n",
       "        vertical-align: middle;\n",
       "    }\n",
       "\n",
       "    .dataframe tbody tr th {\n",
       "        vertical-align: top;\n",
       "    }\n",
       "\n",
       "    .dataframe thead th {\n",
       "        text-align: right;\n",
       "    }\n",
       "</style>\n",
       "<table border=\"1\" class=\"dataframe\">\n",
       "  <thead>\n",
       "    <tr style=\"text-align: right;\">\n",
       "      <th></th>\n",
       "      <th>temperature</th>\n",
       "      <th>humidity</th>\n",
       "      <th>windspeed</th>\n",
       "    </tr>\n",
       "  </thead>\n",
       "  <tbody>\n",
       "    <tr>\n",
       "      <th>0</th>\n",
       "      <td>46.716528</td>\n",
       "      <td>0.815969</td>\n",
       "      <td>13.669663</td>\n",
       "    </tr>\n",
       "    <tr>\n",
       "      <th>1</th>\n",
       "      <td>48.350239</td>\n",
       "      <td>0.800497</td>\n",
       "      <td>15.199782</td>\n",
       "    </tr>\n",
       "    <tr>\n",
       "      <th>2</th>\n",
       "      <td>34.212394</td>\n",
       "      <td>0.592097</td>\n",
       "      <td>13.247558</td>\n",
       "    </tr>\n",
       "    <tr>\n",
       "      <th>3</th>\n",
       "      <td>34.520000</td>\n",
       "      <td>0.623196</td>\n",
       "      <td>11.687963</td>\n",
       "    </tr>\n",
       "    <tr>\n",
       "      <th>4</th>\n",
       "      <td>36.800562</td>\n",
       "      <td>0.624643</td>\n",
       "      <td>13.148281</td>\n",
       "    </tr>\n",
       "    <tr>\n",
       "      <th>...</th>\n",
       "      <td>...</td>\n",
       "      <td>...</td>\n",
       "      <td>...</td>\n",
       "    </tr>\n",
       "    <tr>\n",
       "      <th>726</th>\n",
       "      <td>39.102528</td>\n",
       "      <td>0.482493</td>\n",
       "      <td>10.801229</td>\n",
       "    </tr>\n",
       "    <tr>\n",
       "      <th>727</th>\n",
       "      <td>39.031972</td>\n",
       "      <td>0.480433</td>\n",
       "      <td>8.996301</td>\n",
       "    </tr>\n",
       "    <tr>\n",
       "      <th>728</th>\n",
       "      <td>39.031972</td>\n",
       "      <td>0.717730</td>\n",
       "      <td>11.829425</td>\n",
       "    </tr>\n",
       "    <tr>\n",
       "      <th>729</th>\n",
       "      <td>39.243472</td>\n",
       "      <td>0.523039</td>\n",
       "      <td>12.805314</td>\n",
       "    </tr>\n",
       "    <tr>\n",
       "      <th>730</th>\n",
       "      <td>35.859472</td>\n",
       "      <td>0.494808</td>\n",
       "      <td>9.346850</td>\n",
       "    </tr>\n",
       "  </tbody>\n",
       "</table>\n",
       "<p>731 rows × 3 columns</p>\n",
       "</div>"
      ],
      "text/plain": [
       "     temperature  humidity  windspeed\n",
       "0      46.716528  0.815969  13.669663\n",
       "1      48.350239  0.800497  15.199782\n",
       "2      34.212394  0.592097  13.247558\n",
       "3      34.520000  0.623196  11.687963\n",
       "4      36.800562  0.624643  13.148281\n",
       "..           ...       ...        ...\n",
       "726    39.102528  0.482493  10.801229\n",
       "727    39.031972  0.480433   8.996301\n",
       "728    39.031972  0.717730  11.829425\n",
       "729    39.243472  0.523039  12.805314\n",
       "730    35.859472  0.494808   9.346850\n",
       "\n",
       "[731 rows x 3 columns]"
      ]
     },
     "execution_count": 15,
     "metadata": {},
     "output_type": "execute_result"
    }
   ],
   "source": [
    "x=bikes.iloc[:,0:3]\n",
    "x"
   ]
  },
  {
   "cell_type": "code",
   "execution_count": 16,
   "id": "a78606c0",
   "metadata": {},
   "outputs": [],
   "source": [
    "from sklearn.model_selection import train_test_split\n",
    "x_train,x_test,y_train,y_test=train_test_split(x,y,random_state=1)"
   ]
  },
  {
   "cell_type": "code",
   "execution_count": 17,
   "id": "c738801d",
   "metadata": {},
   "outputs": [
    {
     "data": {
      "text/plain": [
       "548"
      ]
     },
     "execution_count": 17,
     "metadata": {},
     "output_type": "execute_result"
    }
   ],
   "source": [
    "len(y_train)"
   ]
  },
  {
   "cell_type": "code",
   "execution_count": 18,
   "id": "635e0461",
   "metadata": {},
   "outputs": [
    {
     "data": {
      "text/plain": [
       "183"
      ]
     },
     "execution_count": 18,
     "metadata": {},
     "output_type": "execute_result"
    }
   ],
   "source": [
    "len(x_test)"
   ]
  },
  {
   "cell_type": "code",
   "execution_count": 19,
   "id": "092a894f",
   "metadata": {},
   "outputs": [
    {
     "data": {
      "text/plain": [
       "0.7496580027359782"
      ]
     },
     "execution_count": 19,
     "metadata": {},
     "output_type": "execute_result"
    }
   ],
   "source": [
    "548/731"
   ]
  },
  {
   "cell_type": "code",
   "execution_count": 20,
   "id": "6edb4c47",
   "metadata": {},
   "outputs": [
    {
     "data": {
      "text/plain": [
       "0.2503419972640219"
      ]
     },
     "execution_count": 20,
     "metadata": {},
     "output_type": "execute_result"
    }
   ],
   "source": [
    "183/731"
   ]
  },
  {
   "cell_type": "code",
   "execution_count": 21,
   "id": "4e87d5be",
   "metadata": {},
   "outputs": [],
   "source": [
    "from sklearn.linear_model import LinearRegression\n",
    "model=LinearRegression().fit(x_train,y_train)"
   ]
  },
  {
   "cell_type": "code",
   "execution_count": 22,
   "id": "a1b154a8",
   "metadata": {},
   "outputs": [
    {
     "data": {
      "text/plain": [
       "array([3792.70001626])"
      ]
     },
     "execution_count": 22,
     "metadata": {},
     "output_type": "execute_result"
    }
   ],
   "source": [
    "model.intercept_"
   ]
  },
  {
   "cell_type": "code",
   "execution_count": 23,
   "id": "fdd189b5",
   "metadata": {},
   "outputs": [
    {
     "data": {
      "text/plain": [
       "array([[   80.77612995, -4643.02151357,  -199.84486507]])"
      ]
     },
     "execution_count": 23,
     "metadata": {},
     "output_type": "execute_result"
    }
   ],
   "source": [
    "model.coef_"
   ]
  },
  {
   "cell_type": "code",
   "execution_count": 24,
   "id": "3a2a9563",
   "metadata": {},
   "outputs": [
    {
     "data": {
      "text/plain": [
       "3"
      ]
     },
     "execution_count": 24,
     "metadata": {},
     "output_type": "execute_result"
    }
   ],
   "source": [
    "model.rank_"
   ]
  },
  {
   "cell_type": "code",
   "execution_count": 25,
   "id": "0f9186f8",
   "metadata": {},
   "outputs": [
    {
     "data": {
      "text/plain": [
       "array([350.50721439,  79.18425379,   1.90360673])"
      ]
     },
     "execution_count": 25,
     "metadata": {},
     "output_type": "execute_result"
    }
   ],
   "source": [
    "model.singular_"
   ]
  },
  {
   "cell_type": "code",
   "execution_count": 26,
   "id": "841bfb42",
   "metadata": {},
   "outputs": [
    {
     "data": {
      "text/plain": [
       "array(['temperature', 'humidity', 'windspeed'], dtype=object)"
      ]
     },
     "execution_count": 26,
     "metadata": {},
     "output_type": "execute_result"
    }
   ],
   "source": [
    "model.feature_names_in_"
   ]
  },
  {
   "cell_type": "code",
   "execution_count": 27,
   "id": "f37e26fe",
   "metadata": {},
   "outputs": [
    {
     "data": {
      "text/plain": [
       "temperature    39.102528\n",
       "humidity        0.482493\n",
       "windspeed      10.801229\n",
       "Name: 726, dtype: float64"
      ]
     },
     "execution_count": 27,
     "metadata": {},
     "output_type": "execute_result"
    }
   ],
   "source": [
    "x_test.iloc[1]"
   ]
  },
  {
   "cell_type": "code",
   "execution_count": 28,
   "id": "1b9c8880",
   "metadata": {},
   "outputs": [
    {
     "data": {
      "text/plain": [
       "0.9829303728903354"
      ]
     },
     "execution_count": 28,
     "metadata": {},
     "output_type": "execute_result"
    }
   ],
   "source": [
    "model.score(x_test,y_test)"
   ]
  },
  {
   "cell_type": "code",
   "execution_count": 29,
   "id": "21fe4fe6",
   "metadata": {},
   "outputs": [
    {
     "data": {
      "text/html": [
       "<div>\n",
       "<style scoped>\n",
       "    .dataframe tbody tr th:only-of-type {\n",
       "        vertical-align: middle;\n",
       "    }\n",
       "\n",
       "    .dataframe tbody tr th {\n",
       "        vertical-align: top;\n",
       "    }\n",
       "\n",
       "    .dataframe thead th {\n",
       "        text-align: right;\n",
       "    }\n",
       "</style>\n",
       "<table border=\"1\" class=\"dataframe\">\n",
       "  <thead>\n",
       "    <tr style=\"text-align: right;\">\n",
       "      <th></th>\n",
       "      <th>temperature</th>\n",
       "      <th>humidity</th>\n",
       "      <th>windspeed</th>\n",
       "    </tr>\n",
       "  </thead>\n",
       "  <tbody>\n",
       "    <tr>\n",
       "      <th>404</th>\n",
       "      <td>40.019000</td>\n",
       "      <td>0.374979</td>\n",
       "      <td>7.693568</td>\n",
       "    </tr>\n",
       "    <tr>\n",
       "      <th>726</th>\n",
       "      <td>39.102528</td>\n",
       "      <td>0.482493</td>\n",
       "      <td>10.801229</td>\n",
       "    </tr>\n",
       "    <tr>\n",
       "      <th>159</th>\n",
       "      <td>85.984972</td>\n",
       "      <td>0.848313</td>\n",
       "      <td>15.893534</td>\n",
       "    </tr>\n",
       "    <tr>\n",
       "      <th>422</th>\n",
       "      <td>48.620028</td>\n",
       "      <td>0.353408</td>\n",
       "      <td>8.666319</td>\n",
       "    </tr>\n",
       "    <tr>\n",
       "      <th>512</th>\n",
       "      <td>75.974000</td>\n",
       "      <td>0.375785</td>\n",
       "      <td>6.957599</td>\n",
       "    </tr>\n",
       "    <tr>\n",
       "      <th>...</th>\n",
       "      <td>...</td>\n",
       "      <td>...</td>\n",
       "      <td>...</td>\n",
       "    </tr>\n",
       "    <tr>\n",
       "      <th>189</th>\n",
       "      <td>79.639972</td>\n",
       "      <td>0.597481</td>\n",
       "      <td>11.161954</td>\n",
       "    </tr>\n",
       "    <tr>\n",
       "      <th>379</th>\n",
       "      <td>31.700028</td>\n",
       "      <td>0.445731</td>\n",
       "      <td>10.708290</td>\n",
       "    </tr>\n",
       "    <tr>\n",
       "      <th>11</th>\n",
       "      <td>32.212704</td>\n",
       "      <td>0.560594</td>\n",
       "      <td>12.116602</td>\n",
       "    </tr>\n",
       "    <tr>\n",
       "      <th>88</th>\n",
       "      <td>42.980000</td>\n",
       "      <td>0.702655</td>\n",
       "      <td>12.887743</td>\n",
       "    </tr>\n",
       "    <tr>\n",
       "      <th>519</th>\n",
       "      <td>68.571500</td>\n",
       "      <td>0.190993</td>\n",
       "      <td>4.683469</td>\n",
       "    </tr>\n",
       "  </tbody>\n",
       "</table>\n",
       "<p>183 rows × 3 columns</p>\n",
       "</div>"
      ],
      "text/plain": [
       "     temperature  humidity  windspeed\n",
       "404    40.019000  0.374979   7.693568\n",
       "726    39.102528  0.482493  10.801229\n",
       "159    85.984972  0.848313  15.893534\n",
       "422    48.620028  0.353408   8.666319\n",
       "512    75.974000  0.375785   6.957599\n",
       "..           ...       ...        ...\n",
       "189    79.639972  0.597481  11.161954\n",
       "379    31.700028  0.445731  10.708290\n",
       "11     32.212704  0.560594  12.116602\n",
       "88     42.980000  0.702655  12.887743\n",
       "519    68.571500  0.190993   4.683469\n",
       "\n",
       "[183 rows x 3 columns]"
      ]
     },
     "execution_count": 29,
     "metadata": {},
     "output_type": "execute_result"
    }
   ],
   "source": [
    "x_test"
   ]
  },
  {
   "cell_type": "code",
   "execution_count": 30,
   "id": "00881f0e",
   "metadata": {},
   "outputs": [],
   "source": [
    "y_pred=model.predict(x_train)"
   ]
  },
  {
   "cell_type": "code",
   "execution_count": 31,
   "id": "67882a14",
   "metadata": {},
   "outputs": [
    {
     "data": {
      "text/plain": [
       "array([[7105.87092718],\n",
       "       [4991.05553447],\n",
       "       [6629.48358067],\n",
       "       [7390.86687044],\n",
       "       [3860.59265166],\n",
       "       [2833.91814896],\n",
       "       [7287.34846938],\n",
       "       [6930.34347031],\n",
       "       [5547.78180878],\n",
       "       [4998.18587908],\n",
       "       [4505.90498057],\n",
       "       [1799.97322536],\n",
       "       [1187.27576853],\n",
       "       [7425.42201372],\n",
       "       [4557.00997439],\n",
       "       [1922.13764827],\n",
       "       [2745.57071971],\n",
       "       [6237.3650464 ],\n",
       "       [ 709.02787033],\n",
       "       [3555.86224536],\n",
       "       [4470.63035919],\n",
       "       [5470.93908995],\n",
       "       [5596.26092419],\n",
       "       [7647.4296884 ],\n",
       "       [2730.12129191],\n",
       "       [7273.05053373],\n",
       "       [3677.6558323 ],\n",
       "       [2877.02781526],\n",
       "       [6682.79710503],\n",
       "       [3798.83498251],\n",
       "       [2752.26344009],\n",
       "       [1890.29181144],\n",
       "       [3358.04133159],\n",
       "       [6886.26873264],\n",
       "       [6303.87278622],\n",
       "       [4807.47206389],\n",
       "       [6946.29441335],\n",
       "       [3081.83629958],\n",
       "       [3964.23429655],\n",
       "       [6259.92939293],\n",
       "       [4726.47256407],\n",
       "       [3921.86891082],\n",
       "       [6658.57732698],\n",
       "       [1619.16758204],\n",
       "       [4396.77653748],\n",
       "       [3877.40580775],\n",
       "       [2447.70429905],\n",
       "       [3447.08720614],\n",
       "       [7367.77855829],\n",
       "       [ 811.32580264],\n",
       "       [5605.11973442],\n",
       "       [4718.05412248],\n",
       "       [4032.28453772],\n",
       "       [6403.4643572 ],\n",
       "       [3808.60066279],\n",
       "       [3985.71797552],\n",
       "       [5124.77828037],\n",
       "       [6092.55484405],\n",
       "       [7031.46131073],\n",
       "       [2815.26350644],\n",
       "       [4355.01170144],\n",
       "       [4338.39751954],\n",
       "       [7233.18237603],\n",
       "       [5189.65300963],\n",
       "       [7070.09672631],\n",
       "       [2856.69131716],\n",
       "       [4004.60445637],\n",
       "       [4823.69958334],\n",
       "       [4393.91428766],\n",
       "       [5743.41133576],\n",
       "       [7144.82268364],\n",
       "       [4875.53872122],\n",
       "       [5639.73954035],\n",
       "       [2731.19099367],\n",
       "       [6268.73350795],\n",
       "       [1133.5691829 ],\n",
       "       [5072.6599104 ],\n",
       "       [3268.54590762],\n",
       "       [6591.0266994 ],\n",
       "       [5213.32562102],\n",
       "       [7859.98352516],\n",
       "       [6589.24350083],\n",
       "       [5763.4803409 ],\n",
       "       [1087.12955755],\n",
       "       [5402.60621596],\n",
       "       [6773.46600928],\n",
       "       [6226.55204289],\n",
       "       [4498.93481792],\n",
       "       [3980.64469734],\n",
       "       [6641.665898  ],\n",
       "       [5084.11647844],\n",
       "       [1817.84496545],\n",
       "       [6974.03339196],\n",
       "       [4259.14580954],\n",
       "       [6549.9640788 ],\n",
       "       [4511.4605095 ],\n",
       "       [2120.32466056],\n",
       "       [4456.42204422],\n",
       "       [1349.12186423],\n",
       "       [1237.45918249],\n",
       "       [1455.12565646],\n",
       "       [5590.4904531 ],\n",
       "       [5116.11420758],\n",
       "       [3047.9735555 ],\n",
       "       [6865.67173748],\n",
       "       [7155.4214156 ],\n",
       "       [3732.25457228],\n",
       "       [2824.65225211],\n",
       "       [4461.19378524],\n",
       "       [7511.3130774 ],\n",
       "       [6742.45149061],\n",
       "       [4340.63745434],\n",
       "       [6274.84446392],\n",
       "       [4635.78624739],\n",
       "       [6633.83024111],\n",
       "       [6739.58831415],\n",
       "       [4315.71676008],\n",
       "       [3840.86387444],\n",
       "       [5789.25821511],\n",
       "       [6451.18894243],\n",
       "       [4162.58965525],\n",
       "       [4331.13039038],\n",
       "       [2236.00014048],\n",
       "       [8793.7666989 ],\n",
       "       [1310.5060541 ],\n",
       "       [3626.03592368],\n",
       "       [3164.55664956],\n",
       "       [7920.26205587],\n",
       "       [2173.66031202],\n",
       "       [6733.51589974],\n",
       "       [3038.60252962],\n",
       "       [3547.98685583],\n",
       "       [4112.62476411],\n",
       "       [6510.98311132],\n",
       "       [4891.84931978],\n",
       "       [5700.50523689],\n",
       "       [5547.96561195],\n",
       "       [3702.68265414],\n",
       "       [5182.04138405],\n",
       "       [4744.72469747],\n",
       "       [6775.52208086],\n",
       "       [5936.29290892],\n",
       "       [6187.86832137],\n",
       "       [5807.0781691 ],\n",
       "       [3912.45117614],\n",
       "       [7594.54230528],\n",
       "       [2533.01969639],\n",
       "       [1321.95691652],\n",
       "       [6803.17694361],\n",
       "       [3604.18046475],\n",
       "       [2202.16116517],\n",
       "       [1787.19118898],\n",
       "       [7305.47982675],\n",
       "       [4239.29747715],\n",
       "       [4477.55016178],\n",
       "       [4234.90988781],\n",
       "       [6553.88486608],\n",
       "       [5748.91322496],\n",
       "       [3019.99612772],\n",
       "       [6327.68101868],\n",
       "       [4622.55196075],\n",
       "       [8664.64736234],\n",
       "       [1187.90310396],\n",
       "       [4908.74465741],\n",
       "       [6348.98768211],\n",
       "       [4509.13859847],\n",
       "       [6155.25775722],\n",
       "       [1988.23627728],\n",
       "       [4177.35182006],\n",
       "       [5336.17805027],\n",
       "       [7164.73162242],\n",
       "       [2809.10170354],\n",
       "       [5469.69017462],\n",
       "       [2894.61843784],\n",
       "       [3749.66143058],\n",
       "       [1159.66933351],\n",
       "       [4738.75966741],\n",
       "       [4222.97164086],\n",
       "       [4531.68661222],\n",
       "       [1249.52435986],\n",
       "       [1922.32694658],\n",
       "       [4765.03085581],\n",
       "       [4123.00279322],\n",
       "       [1787.62385058],\n",
       "       [4952.86364296],\n",
       "       [4437.88776634],\n",
       "       [4854.14480975],\n",
       "       [4744.70524373],\n",
       "       [5722.43848611],\n",
       "       [6293.08885395],\n",
       "       [2498.25442905],\n",
       "       [4670.31617157],\n",
       "       [5998.73152389],\n",
       "       [5807.67293465],\n",
       "       [6251.12607145],\n",
       "       [6408.96031963],\n",
       "       [3303.66186701],\n",
       "       [4639.18170239],\n",
       "       [4631.21288505],\n",
       "       [3375.34916986],\n",
       "       [2873.13069494],\n",
       "       [7670.76701422],\n",
       "       [3818.07537787],\n",
       "       [4900.84102749],\n",
       "       [4174.02683141],\n",
       "       [ 974.15586367],\n",
       "       [6840.42746819],\n",
       "       [1314.52801686],\n",
       "       [6844.16610323],\n",
       "       [2094.37659261],\n",
       "       [3485.23816374],\n",
       "       [3328.99531288],\n",
       "       [4698.07691786],\n",
       "       [4459.99749976],\n",
       "       [5120.91658045],\n",
       "       [2322.8694999 ],\n",
       "       [6246.91048854],\n",
       "       [6092.45254377],\n",
       "       [6782.72028927],\n",
       "       [7525.23256396],\n",
       "       [2267.02189193],\n",
       "       [2030.8968038 ],\n",
       "       [4955.6309784 ],\n",
       "       [5377.21114776],\n",
       "       [4923.49837302],\n",
       "       [8814.7428534 ],\n",
       "       [7330.58240819],\n",
       "       [5673.94906503],\n",
       "       [4510.54155392],\n",
       "       [2074.66672758],\n",
       "       [7413.83707657],\n",
       "       [4282.27783869],\n",
       "       [8310.82648912],\n",
       "       [2100.36044043],\n",
       "       [7418.29250494],\n",
       "       [4894.6617548 ],\n",
       "       [2596.47953506],\n",
       "       [4910.31606832],\n",
       "       [4974.01990164],\n",
       "       [1181.85640863],\n",
       "       [1388.811511  ],\n",
       "       [1290.34738529],\n",
       "       [5165.65483525],\n",
       "       [2287.38400762],\n",
       "       [3981.49919012],\n",
       "       [6167.59763066],\n",
       "       [ 943.92068681],\n",
       "       [6168.47436549],\n",
       "       [1133.18513036],\n",
       "       [2114.41999619],\n",
       "       [3758.1956185 ],\n",
       "       [2008.4985996 ],\n",
       "       [5748.54410326],\n",
       "       [5628.86688502],\n",
       "       [4956.6823585 ],\n",
       "       [4826.43418176],\n",
       "       [4467.48168585],\n",
       "       [7573.11014057],\n",
       "       [5811.97905333],\n",
       "       [7400.57346203],\n",
       "       [2246.19049308],\n",
       "       [4863.44167116],\n",
       "       [3908.01841001],\n",
       "       [7871.33281308],\n",
       "       [4655.58721599],\n",
       "       [4036.77473804],\n",
       "       [3503.12914276],\n",
       "       [4002.62308928],\n",
       "       [4014.92625705],\n",
       "       [4319.59749232],\n",
       "       [1424.43102572],\n",
       "       [7191.15070295],\n",
       "       [5958.24573305],\n",
       "       [6893.13141476],\n",
       "       [2523.96754758],\n",
       "       [5708.96843154],\n",
       "       [6981.29548308],\n",
       "       [1806.49972796],\n",
       "       [4230.01202822],\n",
       "       [6019.42680095],\n",
       "       [ 737.30643076],\n",
       "       [3504.96737807],\n",
       "       [3602.30951753],\n",
       "       [4665.01190806],\n",
       "       [6051.09041121],\n",
       "       [ 879.1119632 ],\n",
       "       [5664.68655252],\n",
       "       [4784.18841655],\n",
       "       [2005.8834478 ],\n",
       "       [3743.19158402],\n",
       "       [4224.92166446],\n",
       "       [2155.01735478],\n",
       "       [4464.28190348],\n",
       "       [5031.83939066],\n",
       "       [2220.91907002],\n",
       "       [4967.89506962],\n",
       "       [7101.38777702],\n",
       "       [4288.59201621],\n",
       "       [4053.44915679],\n",
       "       [1861.05831988],\n",
       "       [8097.86668784],\n",
       "       [3125.70302058],\n",
       "       [4619.38350928],\n",
       "       [5887.25991185],\n",
       "       [1308.16009213],\n",
       "       [4347.70453929],\n",
       "       [4511.05328426],\n",
       "       [2470.53528889],\n",
       "       [3430.43778937],\n",
       "       [5278.49669574],\n",
       "       [3401.01663961],\n",
       "       [4787.64554319],\n",
       "       [4601.22410538],\n",
       "       [1474.04478049],\n",
       "       [3786.18410366],\n",
       "       [7024.48748465],\n",
       "       [4022.84548499],\n",
       "       [4343.64064398],\n",
       "       [4406.5040336 ],\n",
       "       [4088.02949601],\n",
       "       [5085.87599498],\n",
       "       [3101.92168273],\n",
       "       [3664.26442371],\n",
       "       [6248.05800474],\n",
       "       [8226.62533516],\n",
       "       [4022.03108068],\n",
       "       [3688.00694977],\n",
       "       [4267.8406415 ],\n",
       "       [5851.94281676],\n",
       "       [5137.24898682],\n",
       "       [4840.11778315],\n",
       "       [4733.90285656],\n",
       "       [4433.6861305 ],\n",
       "       [5226.38336001],\n",
       "       [4265.02226784],\n",
       "       [2961.74256137],\n",
       "       [7621.91801842],\n",
       "       [6972.34407623],\n",
       "       [2431.39591584],\n",
       "       [6232.29305427],\n",
       "       [5549.23668791],\n",
       "       [3892.36299177],\n",
       "       [7531.3834445 ],\n",
       "       [3792.88813117],\n",
       "       [4615.77788513],\n",
       "       [6193.31597254],\n",
       "       [3689.25950744],\n",
       "       [1279.59942587],\n",
       "       [4022.3142219 ],\n",
       "       [5215.83392189],\n",
       "       [1975.07834887],\n",
       "       [3677.13448443],\n",
       "       [3058.55234069],\n",
       "       [7355.56768093],\n",
       "       [4872.51588417],\n",
       "       [2104.01995706],\n",
       "       [4426.53156861],\n",
       "       [1737.44428855],\n",
       "       [3939.13910609],\n",
       "       [4508.16546971],\n",
       "       [7123.86958003],\n",
       "       [1875.19637194],\n",
       "       [4022.23334575],\n",
       "       [4644.30601348],\n",
       "       [3169.69562201],\n",
       "       [4378.30995893],\n",
       "       [ 918.63114718],\n",
       "       [5211.0967846 ],\n",
       "       [1933.3732907 ],\n",
       "       [8014.14799325],\n",
       "       [7403.08542104],\n",
       "       [2903.61317996],\n",
       "       [2917.02445383],\n",
       "       [5150.99363007],\n",
       "       [1653.37822169],\n",
       "       [5277.68629509],\n",
       "       [2409.31723268],\n",
       "       [4189.07967159],\n",
       "       [2923.89126508],\n",
       "       [6653.48975865],\n",
       "       [3561.97117367],\n",
       "       [4635.46084064],\n",
       "       [4842.85990845],\n",
       "       [5529.47244891],\n",
       "       [7211.15720199],\n",
       "       [6634.3217481 ],\n",
       "       [1978.01680437],\n",
       "       [7321.05107014],\n",
       "       [3522.3194196 ],\n",
       "       [8345.58597069],\n",
       "       [4213.28507234],\n",
       "       [7974.22258339],\n",
       "       [4174.78118668],\n",
       "       [ 527.56535295],\n",
       "       [3014.47265642],\n",
       "       [1788.56992398],\n",
       "       [4342.75820639],\n",
       "       [5937.35828408],\n",
       "       [4197.50048539],\n",
       "       [5938.66643611],\n",
       "       [3987.32689525],\n",
       "       [5945.67685122],\n",
       "       [4580.76364464],\n",
       "       [5970.49248753],\n",
       "       [7231.69253322],\n",
       "       [7226.91433084],\n",
       "       [4989.88575782],\n",
       "       [3490.78879147],\n",
       "       [7394.5487795 ],\n",
       "       [4741.42813478],\n",
       "       [4794.82427045],\n",
       "       [7036.13565981],\n",
       "       [7917.61130468],\n",
       "       [5465.14059076],\n",
       "       [4592.7198816 ],\n",
       "       [1694.93433578],\n",
       "       [4029.23576431],\n",
       "       [3668.60274391],\n",
       "       [5240.32867144],\n",
       "       [6249.57594513],\n",
       "       [4846.08722605],\n",
       "       [1211.94118765],\n",
       "       [4508.19687966],\n",
       "       [7120.07893443],\n",
       "       [7312.54420439],\n",
       "       [5447.83138159],\n",
       "       [6487.4191933 ],\n",
       "       [3956.70082047],\n",
       "       [3716.528751  ],\n",
       "       [7719.66819707],\n",
       "       [6405.49748667],\n",
       "       [7111.97047351],\n",
       "       [7433.33086477],\n",
       "       [4158.78896233],\n",
       "       [5619.41317773],\n",
       "       [3768.87136495],\n",
       "       [7025.23545756],\n",
       "       [4753.30935446],\n",
       "       [2029.69722057],\n",
       "       [1078.45743132],\n",
       "       [4240.22666167],\n",
       "       [2971.58563874],\n",
       "       [4107.40291233],\n",
       "       [1388.56313022],\n",
       "       [6949.85192915],\n",
       "       [5976.54452952],\n",
       "       [5458.23599444],\n",
       "       [7532.90420479],\n",
       "       [6441.7167145 ],\n",
       "       [3343.2016497 ],\n",
       "       [2699.93096707],\n",
       "       [3203.87044237],\n",
       "       [4446.7123958 ],\n",
       "       [3943.69974841],\n",
       "       [6803.44473488],\n",
       "       [6122.19415643],\n",
       "       [5535.37321671],\n",
       "       [7373.56749249],\n",
       "       [5466.54012836],\n",
       "       [6482.79441442],\n",
       "       [4935.84870849],\n",
       "       [2928.26222656],\n",
       "       [2994.2585046 ],\n",
       "       [4016.42766088],\n",
       "       [3260.70589555],\n",
       "       [4746.31351828],\n",
       "       [7220.7769885 ],\n",
       "       [3912.94044747],\n",
       "       [4974.36706089],\n",
       "       [2014.369385  ],\n",
       "       [7505.29052986],\n",
       "       [4971.03241741],\n",
       "       [5100.68844971],\n",
       "       [7788.80679326],\n",
       "       [3840.0632812 ],\n",
       "       [7871.77609204],\n",
       "       [5378.55847604],\n",
       "       [4769.56039822],\n",
       "       [2461.0837635 ],\n",
       "       [3472.86907278],\n",
       "       [4587.21099354],\n",
       "       [4491.75560683],\n",
       "       [ 794.63166444],\n",
       "       [6501.93258848],\n",
       "       [8221.70323036],\n",
       "       [4843.82860135],\n",
       "       [6571.06530082],\n",
       "       [2430.44621632],\n",
       "       [1038.27773343],\n",
       "       [5918.17227692],\n",
       "       [1381.70024324],\n",
       "       [ 899.38423802],\n",
       "       [4957.13382925],\n",
       "       [4610.00726532],\n",
       "       [7595.85633582],\n",
       "       [3309.0653199 ],\n",
       "       [ 189.43490052],\n",
       "       [6518.94967882],\n",
       "       [1453.42997536],\n",
       "       [7101.46573748],\n",
       "       [6801.42313797],\n",
       "       [5384.74338068],\n",
       "       [6095.40924745],\n",
       "       [5283.63173327],\n",
       "       [2579.31960221],\n",
       "       [2430.79445167],\n",
       "       [7591.77498469],\n",
       "       [6115.85547855],\n",
       "       [7674.11961601],\n",
       "       [5213.13016535],\n",
       "       [7618.80602005],\n",
       "       [6322.28256676],\n",
       "       [4994.42535809],\n",
       "       [3578.3536326 ],\n",
       "       [3698.95745848],\n",
       "       [6138.22060871],\n",
       "       [3152.15757741],\n",
       "       [5271.45664256],\n",
       "       [2003.43857938],\n",
       "       [ 958.91641562],\n",
       "       [2898.93145235],\n",
       "       [4691.69982434],\n",
       "       [1549.29133133],\n",
       "       [3714.00920822],\n",
       "       [7421.56931455],\n",
       "       [4739.35233105],\n",
       "       [7308.14792653],\n",
       "       [6806.23568158],\n",
       "       [3974.34159006],\n",
       "       [1345.46609221],\n",
       "       [7017.5540661 ],\n",
       "       [5414.29547087],\n",
       "       [6040.8920723 ],\n",
       "       [ 778.85479044],\n",
       "       [4485.34491321],\n",
       "       [4609.15864005],\n",
       "       [4474.7412317 ],\n",
       "       [5309.01757798],\n",
       "       [3945.44417011],\n",
       "       [5214.99383944],\n",
       "       [6911.07011639],\n",
       "       [4376.4958993 ],\n",
       "       [4951.03780509],\n",
       "       [3451.90770403],\n",
       "       [3822.62374627],\n",
       "       [1627.23571683],\n",
       "       [5256.68844711],\n",
       "       [1381.85572425]])"
      ]
     },
     "execution_count": 31,
     "metadata": {},
     "output_type": "execute_result"
    }
   ],
   "source": [
    "x_pred=model.predict(x_train)\n",
    "x_pred"
   ]
  },
  {
   "cell_type": "code",
   "execution_count": 32,
   "id": "06971eaf",
   "metadata": {},
   "outputs": [
    {
     "data": {
      "text/plain": [
       "array([[3746.7243231 ],\n",
       "       [2552.45336573]])"
      ]
     },
     "execution_count": 32,
     "metadata": {},
     "output_type": "execute_result"
    }
   ],
   "source": [
    "model.predict(x_test[:2])"
   ]
  },
  {
   "cell_type": "code",
   "execution_count": 33,
   "id": "b5a53e13",
   "metadata": {},
   "outputs": [
    {
     "data": {
      "text/html": [
       "<div>\n",
       "<style scoped>\n",
       "    .dataframe tbody tr th:only-of-type {\n",
       "        vertical-align: middle;\n",
       "    }\n",
       "\n",
       "    .dataframe tbody tr th {\n",
       "        vertical-align: top;\n",
       "    }\n",
       "\n",
       "    .dataframe thead th {\n",
       "        text-align: right;\n",
       "    }\n",
       "</style>\n",
       "<table border=\"1\" class=\"dataframe\">\n",
       "  <thead>\n",
       "    <tr style=\"text-align: right;\">\n",
       "      <th></th>\n",
       "      <th>id</th>\n",
       "      <th>date</th>\n",
       "      <th>price</th>\n",
       "      <th>bedrooms</th>\n",
       "      <th>bathrooms</th>\n",
       "      <th>sqft_living</th>\n",
       "      <th>sqft_lot</th>\n",
       "      <th>floors</th>\n",
       "      <th>waterfront</th>\n",
       "      <th>view</th>\n",
       "      <th>...</th>\n",
       "      <th>grade</th>\n",
       "      <th>sqft_above</th>\n",
       "      <th>sqft_basement</th>\n",
       "      <th>yr_built</th>\n",
       "      <th>yr_renovated</th>\n",
       "      <th>zipcode</th>\n",
       "      <th>lat</th>\n",
       "      <th>long</th>\n",
       "      <th>sqft_living15</th>\n",
       "      <th>sqft_lot15</th>\n",
       "    </tr>\n",
       "  </thead>\n",
       "  <tbody>\n",
       "    <tr>\n",
       "      <th>0</th>\n",
       "      <td>7129300520</td>\n",
       "      <td>20141013T000000</td>\n",
       "      <td>221900.0</td>\n",
       "      <td>3</td>\n",
       "      <td>1.00</td>\n",
       "      <td>1180</td>\n",
       "      <td>5650</td>\n",
       "      <td>1.0</td>\n",
       "      <td>0</td>\n",
       "      <td>0</td>\n",
       "      <td>...</td>\n",
       "      <td>7</td>\n",
       "      <td>1180</td>\n",
       "      <td>0</td>\n",
       "      <td>1955</td>\n",
       "      <td>0</td>\n",
       "      <td>98178</td>\n",
       "      <td>47.5112</td>\n",
       "      <td>-122.257</td>\n",
       "      <td>1340</td>\n",
       "      <td>5650</td>\n",
       "    </tr>\n",
       "    <tr>\n",
       "      <th>1</th>\n",
       "      <td>6414100192</td>\n",
       "      <td>20141209T000000</td>\n",
       "      <td>538000.0</td>\n",
       "      <td>3</td>\n",
       "      <td>2.25</td>\n",
       "      <td>2570</td>\n",
       "      <td>7242</td>\n",
       "      <td>2.0</td>\n",
       "      <td>0</td>\n",
       "      <td>0</td>\n",
       "      <td>...</td>\n",
       "      <td>7</td>\n",
       "      <td>2170</td>\n",
       "      <td>400</td>\n",
       "      <td>1951</td>\n",
       "      <td>1991</td>\n",
       "      <td>98125</td>\n",
       "      <td>47.7210</td>\n",
       "      <td>-122.319</td>\n",
       "      <td>1690</td>\n",
       "      <td>7639</td>\n",
       "    </tr>\n",
       "    <tr>\n",
       "      <th>2</th>\n",
       "      <td>5631500400</td>\n",
       "      <td>20150225T000000</td>\n",
       "      <td>180000.0</td>\n",
       "      <td>2</td>\n",
       "      <td>1.00</td>\n",
       "      <td>770</td>\n",
       "      <td>10000</td>\n",
       "      <td>1.0</td>\n",
       "      <td>0</td>\n",
       "      <td>0</td>\n",
       "      <td>...</td>\n",
       "      <td>6</td>\n",
       "      <td>770</td>\n",
       "      <td>0</td>\n",
       "      <td>1933</td>\n",
       "      <td>0</td>\n",
       "      <td>98028</td>\n",
       "      <td>47.7379</td>\n",
       "      <td>-122.233</td>\n",
       "      <td>2720</td>\n",
       "      <td>8062</td>\n",
       "    </tr>\n",
       "    <tr>\n",
       "      <th>3</th>\n",
       "      <td>2487200875</td>\n",
       "      <td>20141209T000000</td>\n",
       "      <td>604000.0</td>\n",
       "      <td>4</td>\n",
       "      <td>3.00</td>\n",
       "      <td>1960</td>\n",
       "      <td>5000</td>\n",
       "      <td>1.0</td>\n",
       "      <td>0</td>\n",
       "      <td>0</td>\n",
       "      <td>...</td>\n",
       "      <td>7</td>\n",
       "      <td>1050</td>\n",
       "      <td>910</td>\n",
       "      <td>1965</td>\n",
       "      <td>0</td>\n",
       "      <td>98136</td>\n",
       "      <td>47.5208</td>\n",
       "      <td>-122.393</td>\n",
       "      <td>1360</td>\n",
       "      <td>5000</td>\n",
       "    </tr>\n",
       "    <tr>\n",
       "      <th>4</th>\n",
       "      <td>1954400510</td>\n",
       "      <td>20150218T000000</td>\n",
       "      <td>510000.0</td>\n",
       "      <td>3</td>\n",
       "      <td>2.00</td>\n",
       "      <td>1680</td>\n",
       "      <td>8080</td>\n",
       "      <td>1.0</td>\n",
       "      <td>0</td>\n",
       "      <td>0</td>\n",
       "      <td>...</td>\n",
       "      <td>8</td>\n",
       "      <td>1680</td>\n",
       "      <td>0</td>\n",
       "      <td>1987</td>\n",
       "      <td>0</td>\n",
       "      <td>98074</td>\n",
       "      <td>47.6168</td>\n",
       "      <td>-122.045</td>\n",
       "      <td>1800</td>\n",
       "      <td>7503</td>\n",
       "    </tr>\n",
       "  </tbody>\n",
       "</table>\n",
       "<p>5 rows × 21 columns</p>\n",
       "</div>"
      ],
      "text/plain": [
       "           id             date     price  bedrooms  bathrooms  sqft_living  \\\n",
       "0  7129300520  20141013T000000  221900.0         3       1.00         1180   \n",
       "1  6414100192  20141209T000000  538000.0         3       2.25         2570   \n",
       "2  5631500400  20150225T000000  180000.0         2       1.00          770   \n",
       "3  2487200875  20141209T000000  604000.0         4       3.00         1960   \n",
       "4  1954400510  20150218T000000  510000.0         3       2.00         1680   \n",
       "\n",
       "   sqft_lot  floors  waterfront  view  ...  grade  sqft_above  sqft_basement  \\\n",
       "0      5650     1.0           0     0  ...      7        1180              0   \n",
       "1      7242     2.0           0     0  ...      7        2170            400   \n",
       "2     10000     1.0           0     0  ...      6         770              0   \n",
       "3      5000     1.0           0     0  ...      7        1050            910   \n",
       "4      8080     1.0           0     0  ...      8        1680              0   \n",
       "\n",
       "   yr_built  yr_renovated  zipcode      lat     long  sqft_living15  \\\n",
       "0      1955             0    98178  47.5112 -122.257           1340   \n",
       "1      1951          1991    98125  47.7210 -122.319           1690   \n",
       "2      1933             0    98028  47.7379 -122.233           2720   \n",
       "3      1965             0    98136  47.5208 -122.393           1360   \n",
       "4      1987             0    98074  47.6168 -122.045           1800   \n",
       "\n",
       "   sqft_lot15  \n",
       "0        5650  \n",
       "1        7639  \n",
       "2        8062  \n",
       "3        5000  \n",
       "4        7503  \n",
       "\n",
       "[5 rows x 21 columns]"
      ]
     },
     "execution_count": 33,
     "metadata": {},
     "output_type": "execute_result"
    }
   ],
   "source": [
    "import pandas as pd\n",
    "df=pd.read_csv('kc_house_data.csv.zip')\n",
    "df.head()"
   ]
  },
  {
   "cell_type": "code",
   "execution_count": 34,
   "id": "3e420140",
   "metadata": {},
   "outputs": [
    {
     "name": "stdout",
     "output_type": "stream",
     "text": [
      "<class 'pandas.core.frame.DataFrame'>\n",
      "RangeIndex: 21613 entries, 0 to 21612\n",
      "Data columns (total 21 columns):\n",
      " #   Column         Non-Null Count  Dtype  \n",
      "---  ------         --------------  -----  \n",
      " 0   id             21613 non-null  int64  \n",
      " 1   date           21613 non-null  object \n",
      " 2   price          21613 non-null  float64\n",
      " 3   bedrooms       21613 non-null  int64  \n",
      " 4   bathrooms      21613 non-null  float64\n",
      " 5   sqft_living    21613 non-null  int64  \n",
      " 6   sqft_lot       21613 non-null  int64  \n",
      " 7   floors         21613 non-null  float64\n",
      " 8   waterfront     21613 non-null  int64  \n",
      " 9   view           21613 non-null  int64  \n",
      " 10  condition      21613 non-null  int64  \n",
      " 11  grade          21613 non-null  int64  \n",
      " 12  sqft_above     21613 non-null  int64  \n",
      " 13  sqft_basement  21613 non-null  int64  \n",
      " 14  yr_built       21613 non-null  int64  \n",
      " 15  yr_renovated   21613 non-null  int64  \n",
      " 16  zipcode        21613 non-null  int64  \n",
      " 17  lat            21613 non-null  float64\n",
      " 18  long           21613 non-null  float64\n",
      " 19  sqft_living15  21613 non-null  int64  \n",
      " 20  sqft_lot15     21613 non-null  int64  \n",
      "dtypes: float64(5), int64(15), object(1)\n",
      "memory usage: 3.5+ MB\n"
     ]
    }
   ],
   "source": [
    "df.info()"
   ]
  },
  {
   "cell_type": "code",
   "execution_count": 35,
   "id": "d4603fbc",
   "metadata": {},
   "outputs": [
    {
     "data": {
      "text/html": [
       "<div>\n",
       "<style scoped>\n",
       "    .dataframe tbody tr th:only-of-type {\n",
       "        vertical-align: middle;\n",
       "    }\n",
       "\n",
       "    .dataframe tbody tr th {\n",
       "        vertical-align: top;\n",
       "    }\n",
       "\n",
       "    .dataframe thead th {\n",
       "        text-align: right;\n",
       "    }\n",
       "</style>\n",
       "<table border=\"1\" class=\"dataframe\">\n",
       "  <thead>\n",
       "    <tr style=\"text-align: right;\">\n",
       "      <th></th>\n",
       "      <th>id</th>\n",
       "      <th>price</th>\n",
       "      <th>bedrooms</th>\n",
       "      <th>bathrooms</th>\n",
       "      <th>sqft_living</th>\n",
       "      <th>sqft_lot</th>\n",
       "      <th>floors</th>\n",
       "      <th>waterfront</th>\n",
       "      <th>view</th>\n",
       "      <th>condition</th>\n",
       "      <th>grade</th>\n",
       "      <th>sqft_above</th>\n",
       "      <th>sqft_basement</th>\n",
       "      <th>yr_built</th>\n",
       "      <th>yr_renovated</th>\n",
       "      <th>zipcode</th>\n",
       "      <th>lat</th>\n",
       "      <th>long</th>\n",
       "      <th>sqft_living15</th>\n",
       "      <th>sqft_lot15</th>\n",
       "    </tr>\n",
       "  </thead>\n",
       "  <tbody>\n",
       "    <tr>\n",
       "      <th>count</th>\n",
       "      <td>2.161300e+04</td>\n",
       "      <td>2.161300e+04</td>\n",
       "      <td>21613.000000</td>\n",
       "      <td>21613.000000</td>\n",
       "      <td>21613.000000</td>\n",
       "      <td>2.161300e+04</td>\n",
       "      <td>21613.000000</td>\n",
       "      <td>21613.000000</td>\n",
       "      <td>21613.000000</td>\n",
       "      <td>21613.000000</td>\n",
       "      <td>21613.000000</td>\n",
       "      <td>21613.000000</td>\n",
       "      <td>21613.000000</td>\n",
       "      <td>21613.000000</td>\n",
       "      <td>21613.000000</td>\n",
       "      <td>21613.000000</td>\n",
       "      <td>21613.000000</td>\n",
       "      <td>21613.000000</td>\n",
       "      <td>21613.000000</td>\n",
       "      <td>21613.000000</td>\n",
       "    </tr>\n",
       "    <tr>\n",
       "      <th>mean</th>\n",
       "      <td>4.580302e+09</td>\n",
       "      <td>5.400881e+05</td>\n",
       "      <td>3.370842</td>\n",
       "      <td>2.114757</td>\n",
       "      <td>2079.899736</td>\n",
       "      <td>1.510697e+04</td>\n",
       "      <td>1.494309</td>\n",
       "      <td>0.007542</td>\n",
       "      <td>0.234303</td>\n",
       "      <td>3.409430</td>\n",
       "      <td>7.656873</td>\n",
       "      <td>1788.390691</td>\n",
       "      <td>291.509045</td>\n",
       "      <td>1971.005136</td>\n",
       "      <td>84.402258</td>\n",
       "      <td>98077.939805</td>\n",
       "      <td>47.560053</td>\n",
       "      <td>-122.213896</td>\n",
       "      <td>1986.552492</td>\n",
       "      <td>12768.455652</td>\n",
       "    </tr>\n",
       "    <tr>\n",
       "      <th>std</th>\n",
       "      <td>2.876566e+09</td>\n",
       "      <td>3.671272e+05</td>\n",
       "      <td>0.930062</td>\n",
       "      <td>0.770163</td>\n",
       "      <td>918.440897</td>\n",
       "      <td>4.142051e+04</td>\n",
       "      <td>0.539989</td>\n",
       "      <td>0.086517</td>\n",
       "      <td>0.766318</td>\n",
       "      <td>0.650743</td>\n",
       "      <td>1.175459</td>\n",
       "      <td>828.090978</td>\n",
       "      <td>442.575043</td>\n",
       "      <td>29.373411</td>\n",
       "      <td>401.679240</td>\n",
       "      <td>53.505026</td>\n",
       "      <td>0.138564</td>\n",
       "      <td>0.140828</td>\n",
       "      <td>685.391304</td>\n",
       "      <td>27304.179631</td>\n",
       "    </tr>\n",
       "    <tr>\n",
       "      <th>min</th>\n",
       "      <td>1.000102e+06</td>\n",
       "      <td>7.500000e+04</td>\n",
       "      <td>0.000000</td>\n",
       "      <td>0.000000</td>\n",
       "      <td>290.000000</td>\n",
       "      <td>5.200000e+02</td>\n",
       "      <td>1.000000</td>\n",
       "      <td>0.000000</td>\n",
       "      <td>0.000000</td>\n",
       "      <td>1.000000</td>\n",
       "      <td>1.000000</td>\n",
       "      <td>290.000000</td>\n",
       "      <td>0.000000</td>\n",
       "      <td>1900.000000</td>\n",
       "      <td>0.000000</td>\n",
       "      <td>98001.000000</td>\n",
       "      <td>47.155900</td>\n",
       "      <td>-122.519000</td>\n",
       "      <td>399.000000</td>\n",
       "      <td>651.000000</td>\n",
       "    </tr>\n",
       "    <tr>\n",
       "      <th>25%</th>\n",
       "      <td>2.123049e+09</td>\n",
       "      <td>3.219500e+05</td>\n",
       "      <td>3.000000</td>\n",
       "      <td>1.750000</td>\n",
       "      <td>1427.000000</td>\n",
       "      <td>5.040000e+03</td>\n",
       "      <td>1.000000</td>\n",
       "      <td>0.000000</td>\n",
       "      <td>0.000000</td>\n",
       "      <td>3.000000</td>\n",
       "      <td>7.000000</td>\n",
       "      <td>1190.000000</td>\n",
       "      <td>0.000000</td>\n",
       "      <td>1951.000000</td>\n",
       "      <td>0.000000</td>\n",
       "      <td>98033.000000</td>\n",
       "      <td>47.471000</td>\n",
       "      <td>-122.328000</td>\n",
       "      <td>1490.000000</td>\n",
       "      <td>5100.000000</td>\n",
       "    </tr>\n",
       "    <tr>\n",
       "      <th>50%</th>\n",
       "      <td>3.904930e+09</td>\n",
       "      <td>4.500000e+05</td>\n",
       "      <td>3.000000</td>\n",
       "      <td>2.250000</td>\n",
       "      <td>1910.000000</td>\n",
       "      <td>7.618000e+03</td>\n",
       "      <td>1.500000</td>\n",
       "      <td>0.000000</td>\n",
       "      <td>0.000000</td>\n",
       "      <td>3.000000</td>\n",
       "      <td>7.000000</td>\n",
       "      <td>1560.000000</td>\n",
       "      <td>0.000000</td>\n",
       "      <td>1975.000000</td>\n",
       "      <td>0.000000</td>\n",
       "      <td>98065.000000</td>\n",
       "      <td>47.571800</td>\n",
       "      <td>-122.230000</td>\n",
       "      <td>1840.000000</td>\n",
       "      <td>7620.000000</td>\n",
       "    </tr>\n",
       "    <tr>\n",
       "      <th>75%</th>\n",
       "      <td>7.308900e+09</td>\n",
       "      <td>6.450000e+05</td>\n",
       "      <td>4.000000</td>\n",
       "      <td>2.500000</td>\n",
       "      <td>2550.000000</td>\n",
       "      <td>1.068800e+04</td>\n",
       "      <td>2.000000</td>\n",
       "      <td>0.000000</td>\n",
       "      <td>0.000000</td>\n",
       "      <td>4.000000</td>\n",
       "      <td>8.000000</td>\n",
       "      <td>2210.000000</td>\n",
       "      <td>560.000000</td>\n",
       "      <td>1997.000000</td>\n",
       "      <td>0.000000</td>\n",
       "      <td>98118.000000</td>\n",
       "      <td>47.678000</td>\n",
       "      <td>-122.125000</td>\n",
       "      <td>2360.000000</td>\n",
       "      <td>10083.000000</td>\n",
       "    </tr>\n",
       "    <tr>\n",
       "      <th>max</th>\n",
       "      <td>9.900000e+09</td>\n",
       "      <td>7.700000e+06</td>\n",
       "      <td>33.000000</td>\n",
       "      <td>8.000000</td>\n",
       "      <td>13540.000000</td>\n",
       "      <td>1.651359e+06</td>\n",
       "      <td>3.500000</td>\n",
       "      <td>1.000000</td>\n",
       "      <td>4.000000</td>\n",
       "      <td>5.000000</td>\n",
       "      <td>13.000000</td>\n",
       "      <td>9410.000000</td>\n",
       "      <td>4820.000000</td>\n",
       "      <td>2015.000000</td>\n",
       "      <td>2015.000000</td>\n",
       "      <td>98199.000000</td>\n",
       "      <td>47.777600</td>\n",
       "      <td>-121.315000</td>\n",
       "      <td>6210.000000</td>\n",
       "      <td>871200.000000</td>\n",
       "    </tr>\n",
       "  </tbody>\n",
       "</table>\n",
       "</div>"
      ],
      "text/plain": [
       "                 id         price      bedrooms     bathrooms   sqft_living  \\\n",
       "count  2.161300e+04  2.161300e+04  21613.000000  21613.000000  21613.000000   \n",
       "mean   4.580302e+09  5.400881e+05      3.370842      2.114757   2079.899736   \n",
       "std    2.876566e+09  3.671272e+05      0.930062      0.770163    918.440897   \n",
       "min    1.000102e+06  7.500000e+04      0.000000      0.000000    290.000000   \n",
       "25%    2.123049e+09  3.219500e+05      3.000000      1.750000   1427.000000   \n",
       "50%    3.904930e+09  4.500000e+05      3.000000      2.250000   1910.000000   \n",
       "75%    7.308900e+09  6.450000e+05      4.000000      2.500000   2550.000000   \n",
       "max    9.900000e+09  7.700000e+06     33.000000      8.000000  13540.000000   \n",
       "\n",
       "           sqft_lot        floors    waterfront          view     condition  \\\n",
       "count  2.161300e+04  21613.000000  21613.000000  21613.000000  21613.000000   \n",
       "mean   1.510697e+04      1.494309      0.007542      0.234303      3.409430   \n",
       "std    4.142051e+04      0.539989      0.086517      0.766318      0.650743   \n",
       "min    5.200000e+02      1.000000      0.000000      0.000000      1.000000   \n",
       "25%    5.040000e+03      1.000000      0.000000      0.000000      3.000000   \n",
       "50%    7.618000e+03      1.500000      0.000000      0.000000      3.000000   \n",
       "75%    1.068800e+04      2.000000      0.000000      0.000000      4.000000   \n",
       "max    1.651359e+06      3.500000      1.000000      4.000000      5.000000   \n",
       "\n",
       "              grade    sqft_above  sqft_basement      yr_built  yr_renovated  \\\n",
       "count  21613.000000  21613.000000   21613.000000  21613.000000  21613.000000   \n",
       "mean       7.656873   1788.390691     291.509045   1971.005136     84.402258   \n",
       "std        1.175459    828.090978     442.575043     29.373411    401.679240   \n",
       "min        1.000000    290.000000       0.000000   1900.000000      0.000000   \n",
       "25%        7.000000   1190.000000       0.000000   1951.000000      0.000000   \n",
       "50%        7.000000   1560.000000       0.000000   1975.000000      0.000000   \n",
       "75%        8.000000   2210.000000     560.000000   1997.000000      0.000000   \n",
       "max       13.000000   9410.000000    4820.000000   2015.000000   2015.000000   \n",
       "\n",
       "            zipcode           lat          long  sqft_living15     sqft_lot15  \n",
       "count  21613.000000  21613.000000  21613.000000   21613.000000   21613.000000  \n",
       "mean   98077.939805     47.560053   -122.213896    1986.552492   12768.455652  \n",
       "std       53.505026      0.138564      0.140828     685.391304   27304.179631  \n",
       "min    98001.000000     47.155900   -122.519000     399.000000     651.000000  \n",
       "25%    98033.000000     47.471000   -122.328000    1490.000000    5100.000000  \n",
       "50%    98065.000000     47.571800   -122.230000    1840.000000    7620.000000  \n",
       "75%    98118.000000     47.678000   -122.125000    2360.000000   10083.000000  \n",
       "max    98199.000000     47.777600   -121.315000    6210.000000  871200.000000  "
      ]
     },
     "execution_count": 35,
     "metadata": {},
     "output_type": "execute_result"
    }
   ],
   "source": [
    "df.describe()"
   ]
  },
  {
   "cell_type": "code",
   "execution_count": 36,
   "id": "53a2b5b9",
   "metadata": {},
   "outputs": [
    {
     "data": {
      "text/plain": [
       "<AxesSubplot:xlabel='sqft_living', ylabel='sqft_above'>"
      ]
     },
     "execution_count": 36,
     "metadata": {},
     "output_type": "execute_result"
    },
    {
     "data": {
      "image/png": "[encoded data removed]",
      "text/plain": [
       "<Figure size 432x288 with 1 Axes>"
      ]
     },
     "metadata": {
      "needs_background": "light"
     },
     "output_type": "display_data"
    }
   ],
   "source": [
    "df.plot(kind='scatter',x='sqft_living',y='sqft_above')"
   ]
  },
  {
   "cell_type": "code",
   "execution_count": 37,
   "id": "800f5ee7",
   "metadata": {},
   "outputs": [],
   "source": [
    "x=df[['sqft_living']]   #independent feature\n",
    "y=df[['sqft_above']]"
   ]
  },
  {
   "cell_type": "code",
   "execution_count": 38,
   "id": "87c09c5c",
   "metadata": {},
   "outputs": [],
   "source": [
    "x_train,x_test,y_train,y_test=train_test_split(x,y,test_size=0.20,random_state=21)"
   ]
  },
  {
   "cell_type": "code",
   "execution_count": 39,
   "id": "4310a443",
   "metadata": {},
   "outputs": [],
   "source": [
    "data=LinearRegression()"
   ]
  },
  {
   "cell_type": "code",
   "execution_count": 40,
   "id": "f44413ee",
   "metadata": {},
   "outputs": [
    {
     "data": {
      "text/plain": [
       "LinearRegression()"
      ]
     },
     "execution_count": 40,
     "metadata": {},
     "output_type": "execute_result"
    }
   ],
   "source": [
    "data.fit(x_train,y_train)"
   ]
  },
  {
   "cell_type": "code",
   "execution_count": 41,
   "id": "fd49516e",
   "metadata": {},
   "outputs": [
    {
     "data": {
      "text/plain": [
       "array([146.83925855])"
      ]
     },
     "execution_count": 41,
     "metadata": {},
     "output_type": "execute_result"
    }
   ],
   "source": [
    "data.intercept_"
   ]
  },
  {
   "cell_type": "code",
   "execution_count": 42,
   "id": "bbb26276",
   "metadata": {},
   "outputs": [
    {
     "data": {
      "text/plain": [
       "17290"
      ]
     },
     "execution_count": 42,
     "metadata": {},
     "output_type": "execute_result"
    }
   ],
   "source": [
    "len(x_train)"
   ]
  },
  {
   "cell_type": "code",
   "execution_count": 43,
   "id": "4c870ef4",
   "metadata": {},
   "outputs": [
    {
     "data": {
      "text/plain": [
       "array([[0.78877875]])"
      ]
     },
     "execution_count": 43,
     "metadata": {},
     "output_type": "execute_result"
    }
   ],
   "source": [
    "data.coef_"
   ]
  },
  {
   "cell_type": "code",
   "execution_count": 44,
   "id": "e9aedc1d",
   "metadata": {},
   "outputs": [
    {
     "data": {
      "text/plain": [
       "1"
      ]
     },
     "execution_count": 44,
     "metadata": {},
     "output_type": "execute_result"
    }
   ],
   "source": [
    "data.rank_"
   ]
  },
  {
   "cell_type": "code",
   "execution_count": 45,
   "id": "3bed2539",
   "metadata": {},
   "outputs": [
    {
     "data": {
      "text/plain": [
       "array([[1448.32420203],\n",
       "       [2063.57162985],\n",
       "       [1511.42650232],\n",
       "       ...,\n",
       "       [1286.62455753],\n",
       "       [1479.87535217],\n",
       "       [1866.37694144]])"
      ]
     },
     "execution_count": 45,
     "metadata": {},
     "output_type": "execute_result"
    }
   ],
   "source": [
    "predict=data.predict(x_train)\n",
    "predict"
   ]
  },
  {
   "cell_type": "code",
   "execution_count": 46,
   "id": "4a6a5d47",
   "metadata": {},
   "outputs": [
    {
     "data": {
      "text/plain": [
       "[<matplotlib.lines.Line2D at 0x22e35359550>]"
      ]
     },
     "execution_count": 46,
     "metadata": {},
     "output_type": "execute_result"
    },
    {
     "data": {
      "image/png": "[encoded data removed]",
      "text/plain": [
       "<Figure size 432x288 with 1 Axes>"
      ]
     },
     "metadata": {
      "needs_background": "light"
     },
     "output_type": "display_data"
    }
   ],
   "source": [
    "plt.scatter(x_train,y_train)\n",
    "plt.plot(x_train.values,data.predict(x_train),'r')"
   ]
  },
  {
   "cell_type": "code",
   "execution_count": 47,
   "id": "be56f6ed",
   "metadata": {
    "scrolled": true
   },
   "outputs": [
    {
     "data": {
      "text/plain": [
       "(array([[1148.58827565],\n",
       "        [2039.90826724],\n",
       "        [1684.95782811],\n",
       "        ...,\n",
       "        [ 793.63783652],\n",
       "        [1361.55853913],\n",
       "        [ 722.6477487 ]]),\n",
       "        sqft_above\n",
       " 5294         1270\n",
       " 19430        2400\n",
       " 10728        1520\n",
       " 12080        1260\n",
       " 15156        1720\n",
       " ...           ...\n",
       " 4305         1460\n",
       " 13925         960\n",
       " 21381         820\n",
       " 6364         1020\n",
       " 3837          730\n",
       " \n",
       " [4323 rows x 1 columns])"
      ]
     },
     "execution_count": 47,
     "metadata": {},
     "output_type": "execute_result"
    }
   ],
   "source": [
    "y_pred_test=data.predict(x_test)\n",
    "y_pred_test,y_test"
   ]
  },
  {
   "cell_type": "code",
   "execution_count": 48,
   "id": "c588c88f",
   "metadata": {},
   "outputs": [
    {
     "data": {
      "text/plain": [
       "0.7687174364614728"
      ]
     },
     "execution_count": 48,
     "metadata": {},
     "output_type": "execute_result"
    }
   ],
   "source": [
    "data.score(x_test,y_test)"
   ]
  },
  {
   "cell_type": "code",
   "execution_count": 51,
   "id": "4d6fc2ce",
   "metadata": {},
   "outputs": [
    {
     "name": "stdout",
     "output_type": "stream",
     "text": [
      "152877.8431673922\n",
      "318.33067247410406\n",
      "390.99596310881805\n"
     ]
    }
   ],
   "source": [
    "from sklearn.metrics import mean_squared_error,mean_absolute_error\n",
    "mse=mean_squared_error(y_test,y_pred_test)\n",
    "mae=mean_absolute_error(y_test,y_pred_test)\n",
    "rmse=np.sqrt(mse)\n",
    "print(mse)\n",
    "print(mae)\n",
    "print(rmse)"
   ]
  },
  {
   "cell_type": "code",
   "execution_count": 53,
   "id": "465baeff",
   "metadata": {},
   "outputs": [
    {
     "name": "stderr",
     "output_type": "stream",
     "text": [
      "C:\\Users\\Abdul\\anaconda3\\lib\\site-packages\\sklearn\\base.py:450: UserWarning: X does not have valid feature names, but LinearRegression was fitted with feature names\n",
      "  warnings.warn(\n"
     ]
    },
    {
     "data": {
      "text/plain": [
       "array([[2039.90826724]])"
      ]
     },
     "execution_count": 53,
     "metadata": {},
     "output_type": "execute_result"
    }
   ],
   "source": [
    "data.predict([x_test.iloc[1]])"
   ]
  },
  {
   "cell_type": "code",
   "execution_count": 54,
   "id": "dc002f6f",
   "metadata": {},
   "outputs": [
    {
     "name": "stderr",
     "output_type": "stream",
     "text": [
      "C:\\Users\\Abdul\\anaconda3\\lib\\site-packages\\sklearn\\base.py:493: FutureWarning: The feature names should match those that were passed during fit. Starting version 1.2, an error will be raised.\n",
      "Feature names unseen at fit time:\n",
      "- sqft_above\n",
      "Feature names seen at fit time, yet now missing:\n",
      "- sqft_living\n",
      "\n",
      "  warnings.warn(message, FutureWarning)\n"
     ]
    },
    {
     "data": {
      "text/plain": [
       "[<matplotlib.lines.Line2D at 0x22e3542ddc0>]"
      ]
     },
     "execution_count": 54,
     "metadata": {},
     "output_type": "execute_result"
    },
    {
     "data": {
      "image/png": "[encoded data removed]",
      "text/plain": [
       "<Figure size 432x288 with 1 Axes>"
      ]
     },
     "metadata": {
      "needs_background": "light"
     },
     "output_type": "display_data"
    }
   ],
   "source": [
    "plt.scatter(y_test,y_pred_test)\n",
    "plt.plot(y_test.values,data.predict(y_test),'r')"
   ]
  },
  {
   "cell_type": "code",
   "execution_count": null,
   "id": "53da31b4",
   "metadata": {},
   "outputs": [],
   "source": []
  }
 ],
 "metadata": {
  "kernelspec": {
   "display_name": "Python 3 (ipykernel)",
   "language": "python",
   "name": "python3"
  },
  "language_info": {
   "codemirror_mode": {
    "name": "ipython",
    "version": 3
   },
   "file_extension": ".py",
   "mimetype": "text/x-python",
   "name": "python",
   "nbconvert_exporter": "python",
   "pygments_lexer": "ipython3",
   "version": "3.9.12"
  }
 },
 "nbformat": 4,
 "nbformat_minor": 5
}
