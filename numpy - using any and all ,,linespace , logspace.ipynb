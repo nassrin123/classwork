{
 "cells": [
  {
   "cell_type": "code",
   "execution_count": 6,
   "id": "10914b13",
   "metadata": {},
   "outputs": [],
   "source": [
    "#using any and all\n",
    "import numpy as np"
   ]
  },
  {
   "cell_type": "code",
   "execution_count": 3,
   "id": "29e2872e",
   "metadata": {},
   "outputs": [
    {
     "name": "stdout",
     "output_type": "stream",
     "text": [
      "Result of ar>ar1 : [ True False False False]\n",
      "Check if any one element is true: True\n",
      "Check if all elements are true: False\n"
     ]
    }
   ],
   "source": [
    "ar=np.array([1,2,3,0])\n",
    "ar1=np.array([0,2,3,1])\n",
    "res=ar>ar1\n",
    "print('Result of ar>ar1 :',res)\n",
    "print('Check if any one element is true:',any(res))\n",
    "print('Check if all elements are true:',all(res))\n",
    "#if (any(ar>ar1))"
   ]
  },
  {
   "cell_type": "code",
   "execution_count": 4,
   "id": "da047d17",
   "metadata": {},
   "outputs": [
    {
     "name": "stdout",
     "output_type": "stream",
     "text": [
      "[ True  True  True False]\n"
     ]
    }
   ],
   "source": [
    "#logical_and(),logical_or(),logical_not()\n",
    "ar=np.array([1,2.0,3,0],int)        #ar>0: true,true,true,false  #ar<4: true,true,true,true\n",
    "ar1=np.array([0,2.0,3,1],int)\n",
    "c=np.logical_and(ar>0,ar<4)    \n",
    "print(c)                        "
   ]
  },
  {
   "cell_type": "code",
   "execution_count": 3,
   "id": "a26d5707",
   "metadata": {},
   "outputs": [
    {
     "name": "stdout",
     "output_type": "stream",
     "text": [
      "[ True  True  True  True]\n"
     ]
    }
   ],
   "source": [
    "#logical_or()\n",
    "ar=np.array([1,2.0,3,0],int)               #ar>0 true,true,true,false    #ar<4: true,true,true,true\n",
    "ar1=np.array([0,2.0,3,1],int)    \n",
    "c=np.logical_or(ar>0,ar<4)\n",
    "print(c)"
   ]
  },
  {
   "cell_type": "code",
   "execution_count": 8,
   "id": "453aa986",
   "metadata": {},
   "outputs": [
    {
     "name": "stdout",
     "output_type": "stream",
     "text": [
      "[ True False False  True]\n"
     ]
    }
   ],
   "source": [
    "#logical_not()                         #NOT - IF IT IS ZERO ,THEN TRUE\n",
    "ar1=np.array([0,1.0,1,0],int)         #ar1=true,false ,fALSE ,TRUE\n",
    "c=np.logical_not(ar1)\n",
    "print(c)"
   ]
  },
  {
   "cell_type": "code",
   "execution_count": 10,
   "id": "83706ba5",
   "metadata": {},
   "outputs": [
    {
     "name": "stdout",
     "output_type": "stream",
     "text": [
      "Original array is:\n",
      "[[1 2 3]\n",
      " [4 5 6]\n",
      " [7 8 9]]\n",
      "********************\n",
      "Transpose of a Array is:\n",
      "[[1 4 7]\n",
      " [2 5 8]\n",
      " [3 6 9]]\n"
     ]
    }
   ],
   "source": [
    "#Transpose of a matrix (Array)\n",
    "a=np.array([[1,2,3],\n",
    "            [4,5,6],\n",
    "            [7,8,9]])\n",
    "print('Original array is:')\n",
    "print(a)\n",
    "print('*'*20)\n",
    "print('Transpose of a Array is:')\n",
    "print(a.transpose())\n"
   ]
  },
  {
   "cell_type": "code",
   "execution_count": 11,
   "id": "8ff6ba8b",
   "metadata": {},
   "outputs": [
    {
     "name": "stdout",
     "output_type": "stream",
     "text": [
      "Original array is:\n",
      "[[1 2 3]\n",
      " [4 5 6]\n",
      " [7 8 9]]\n",
      "********************\n",
      "Transpose of a Array is:\n",
      "[[1 4 7]\n",
      " [2 5 8]\n",
      " [3 6 9]]\n"
     ]
    }
   ],
   "source": [
    "#Transpose of a matrix (Array)\n",
    "a=np.array([[1,2,3],\n",
    "            [4,5,6],\n",
    "            [7,8,9]])\n",
    "print('Original array is:')\n",
    "print(a)\n",
    "print('*'*20)\n",
    "print('Transpose of a Array is:')\n",
    "print(a.T)"
   ]
  },
  {
   "cell_type": "code",
   "execution_count": 12,
   "id": "5dc3d297",
   "metadata": {},
   "outputs": [
    {
     "name": "stdout",
     "output_type": "stream",
     "text": [
      "[2 2 2 2 2]\n"
     ]
    }
   ],
   "source": [
    "#full function is used to create a numpy array filled with a specified constant value\n",
    "import numpy as np\n",
    "twos=np.full(5,2)\n",
    "print(twos)"
   ]
  },
  {
   "cell_type": "code",
   "execution_count": 19,
   "id": "205a8d2e",
   "metadata": {},
   "outputs": [
    {
     "name": "stdout",
     "output_type": "stream",
     "text": [
      "[3 3 3 3 3]\n"
     ]
    }
   ],
   "source": [
    "twos=np.full(5,3)\n",
    "print(twos)"
   ]
  },
  {
   "cell_type": "code",
   "execution_count": 14,
   "id": "077b7aa3",
   "metadata": {},
   "outputs": [
    {
     "name": "stdout",
     "output_type": "stream",
     "text": [
      "[[0.00000000e+000 0.00000000e+000 0.00000000e+000]\n",
      " [0.00000000e+000 0.00000000e+000 7.35169681e-321]\n",
      " [3.11525958e-307 1.24610723e-306 1.29516345e-318]]\n",
      "*************************\n",
      "[[5. 5. 5.]\n",
      " [5. 5. 5.]\n",
      " [5. 5. 5.]]\n"
     ]
    }
   ],
   "source": [
    "emp=np.empty((3,3))\n",
    "print(emp)\n",
    "print('*'*25)\n",
    "emp.fill(5)\n",
    "print(emp)"
   ]
  },
  {
   "cell_type": "code",
   "execution_count": 26,
   "id": "e8f9c61d",
   "metadata": {},
   "outputs": [
    {
     "name": "stdout",
     "output_type": "stream",
     "text": [
      "[[0 5 0 0 0]\n",
      " [0 0 5 0 0]\n",
      " [0 0 0 5 0]\n",
      " [0 0 0 0 5]\n",
      " [0 0 0 0 0]]\n"
     ]
    }
   ],
   "source": [
    "iden=np.eye(5,k=1,dtype='int')*5\n",
    "print(iden)"
   ]
  },
  {
   "cell_type": "code",
   "execution_count": 17,
   "id": "1d37112e",
   "metadata": {},
   "outputs": [
    {
     "name": "stdout",
     "output_type": "stream",
     "text": [
      "[[10  0  0  0  0]\n",
      " [ 0 10  0  0  0]\n",
      " [ 0  0 10  0  0]\n",
      " [ 0  0  0 10  0]\n",
      " [ 0  0  0  0 10]]\n"
     ]
    }
   ],
   "source": [
    "iden=np.eye(5,dtype='int')*10\n",
    "print(iden)"
   ]
  },
  {
   "cell_type": "code",
   "execution_count": 18,
   "id": "675c987f",
   "metadata": {},
   "outputs": [
    {
     "name": "stdout",
     "output_type": "stream",
     "text": [
      "[ 1.          1.18367347  1.36734694  1.55102041  1.73469388  1.91836735\n",
      "  2.10204082  2.28571429  2.46938776  2.65306122  2.83673469  3.02040816\n",
      "  3.20408163  3.3877551   3.57142857  3.75510204  3.93877551  4.12244898\n",
      "  4.30612245  4.48979592  4.67346939  4.85714286  5.04081633  5.2244898\n",
      "  5.40816327  5.59183673  5.7755102   5.95918367  6.14285714  6.32653061\n",
      "  6.51020408  6.69387755  6.87755102  7.06122449  7.24489796  7.42857143\n",
      "  7.6122449   7.79591837  7.97959184  8.16326531  8.34693878  8.53061224\n",
      "  8.71428571  8.89795918  9.08163265  9.26530612  9.44897959  9.63265306\n",
      "  9.81632653 10.        ]\n",
      "float64\n",
      "(50,)\n"
     ]
    }
   ],
   "source": [
    "#linspace - It allows you to do customize the range to fit your specific needs.\n",
    "#linespace - stop and stop two parameters are required\n",
    "lin=np.linspace(1,10)\n",
    "print(lin)\n",
    "print(lin.dtype)\n",
    "print(lin.shape)"
   ]
  },
  {
   "cell_type": "code",
   "execution_count": 21,
   "id": "9554c1f5",
   "metadata": {},
   "outputs": [
    {
     "name": "stdout",
     "output_type": "stream",
     "text": [
      "[1.         1.08163265 1.16326531 1.24489796 1.32653061 1.40816327\n",
      " 1.48979592 1.57142857 1.65306122 1.73469388 1.81632653 1.89795918\n",
      " 1.97959184 2.06122449 2.14285714 2.2244898  2.30612245 2.3877551\n",
      " 2.46938776 2.55102041 2.63265306 2.71428571 2.79591837 2.87755102\n",
      " 2.95918367 3.04081633 3.12244898 3.20408163 3.28571429 3.36734694\n",
      " 3.44897959 3.53061224 3.6122449  3.69387755 3.7755102  3.85714286\n",
      " 3.93877551 4.02040816 4.10204082 4.18367347 4.26530612 4.34693878\n",
      " 4.42857143 4.51020408 4.59183673 4.67346939 4.75510204 4.83673469\n",
      " 4.91836735 5.        ]\n"
     ]
    }
   ],
   "source": [
    "lin=np.linspace(1,5)\n",
    "print(lin)"
   ]
  },
  {
   "cell_type": "code",
   "execution_count": 19,
   "id": "70b3634c",
   "metadata": {},
   "outputs": [
    {
     "name": "stdout",
     "output_type": "stream",
     "text": [
      "[ 1.  7. 13. 19. 25.]\n"
     ]
    }
   ],
   "source": [
    "lin=np.linspace(1,25,5)\n",
    "print(lin)"
   ]
  },
  {
   "cell_type": "code",
   "execution_count": 3,
   "id": "1c845869",
   "metadata": {},
   "outputs": [
    {
     "name": "stdout",
     "output_type": "stream",
     "text": [
      "[2.         2.14285714 2.28571429 2.42857143 2.57142857 2.71428571\n",
      " 2.85714286 3.         3.14285714 3.28571429 3.42857143 3.57142857\n",
      " 3.71428571 3.85714286 4.         4.14285714 4.28571429 4.42857143\n",
      " 4.57142857 4.71428571 4.85714286 5.         5.14285714 5.28571429\n",
      " 5.42857143 5.57142857 5.71428571 5.85714286 6.         6.14285714\n",
      " 6.28571429 6.42857143 6.57142857 6.71428571 6.85714286 7.\n",
      " 7.14285714 7.28571429 7.42857143 7.57142857 7.71428571 7.85714286\n",
      " 8.         8.14285714 8.28571429 8.42857143 8.57142857 8.71428571\n",
      " 8.85714286 9.        ]\n"
     ]
    }
   ],
   "source": [
    "lin=np.linspace(2,9)\n",
    "print(lin)"
   ]
  },
  {
   "cell_type": "code",
   "execution_count": 34,
   "id": "caea03a4",
   "metadata": {},
   "outputs": [
    {
     "name": "stdout",
     "output_type": "stream",
     "text": [
      "[  10.           31.6227766   100.          316.22776602 1000.        ]\n"
     ]
    }
   ],
   "source": [
    "#logospace\n",
    "log=np.logspace(1,3,5) #10 power 1 to 10 to power 4 into 5 equal parts\n",
    "print(log)\n"
   ]
  },
  {
   "cell_type": "code",
   "execution_count": 23,
   "id": "32f5743d",
   "metadata": {},
   "outputs": [
    {
     "name": "stdout",
     "output_type": "stream",
     "text": [
      "[  1000.           1668.1005372    2782.55940221   4641.58883361\n",
      "   7742.63682681  12915.49665015  21544.34690032  35938.13663805\n",
      "  59948.42503189 100000.        ]\n"
     ]
    }
   ],
   "source": [
    "log=np.logspace(3,5,10) #10 power 1 to 10 to power 4 into 5 equal parts\n",
    "print(log)"
   ]
  },
  {
   "cell_type": "code",
   "execution_count": 5,
   "id": "4bdc3b05",
   "metadata": {},
   "outputs": [
    {
     "name": "stdout",
     "output_type": "stream",
     "text": [
      "1-D Array is:\n",
      "[ 0  1  2  3  4  5  6  7  8  9 10 11]\n",
      "******************************\n",
      "3-D Array is:\n",
      "[[[ 0  1]\n",
      "  [ 2  3]\n",
      "  [ 4  5]]\n",
      "\n",
      " [[ 6  7]\n",
      "  [ 8  9]\n",
      "  [10 11]]]\n"
     ]
    }
   ],
   "source": [
    "#1-D to 3-D array conversion\n",
    "arr=np.arange(12)\n",
    "print('1-D Array is:')\n",
    "print(arr)\n",
    "print('*'*30)\n",
    "ar_3d=arr.reshape(2,3,2)\n",
    "print('3-D Array is:')\n",
    "print(ar_3d)"
   ]
  },
  {
   "cell_type": "code",
   "execution_count": 25,
   "id": "f3de79b4",
   "metadata": {},
   "outputs": [
    {
     "name": "stdout",
     "output_type": "stream",
     "text": [
      "3\n",
      "12\n",
      "(2, 3, 2)\n"
     ]
    }
   ],
   "source": [
    "print(ar_3d.ndim)\n",
    "print(ar_3d.size)\n",
    "print(ar_3d.shape)"
   ]
  },
  {
   "cell_type": "code",
   "execution_count": 26,
   "id": "0b9d1928",
   "metadata": {},
   "outputs": [
    {
     "name": "stdout",
     "output_type": "stream",
     "text": [
      "3-D Array is:\n",
      "[[[ 0  1  2  3]\n",
      "  [ 4  5  6  7]\n",
      "  [ 8  9 10 11]]]\n"
     ]
    }
   ],
   "source": [
    "ar_3d=arr.reshape(1,3,4)\n",
    "print('3-D Array is:')\n",
    "print(ar_3d)"
   ]
  },
  {
   "cell_type": "code",
   "execution_count": 13,
   "id": "f6656b5c",
   "metadata": {},
   "outputs": [
    {
     "name": "stdout",
     "output_type": "stream",
     "text": [
      "[[[ 0  1  2]\n",
      "  [ 3  4  5]\n",
      "  [ 6  7  8]\n",
      "  [ 9 10 11]]]\n"
     ]
    }
   ],
   "source": [
    "ar_3d=arr.reshape(1,4,3)\n",
    "print(ar_3d)"
   ]
  },
  {
   "cell_type": "code",
   "execution_count": 8,
   "id": "b736f495",
   "metadata": {},
   "outputs": [
    {
     "name": "stdout",
     "output_type": "stream",
     "text": [
      "3-D Array is:\n",
      "[[[ 0  1  2]\n",
      "  [ 3  4  5]]\n",
      "\n",
      " [[ 6  7  8]\n",
      "  [ 9 10 11]]]\n"
     ]
    }
   ],
   "source": [
    "ar_3d=arr.reshape(2,2,3)  #no.of.dimensions /no.of.rows/no.of.\n",
    "print('3-D Array is:')\n",
    "print(ar_3d)"
   ]
  },
  {
   "cell_type": "code",
   "execution_count": 28,
   "id": "6001e1a8",
   "metadata": {},
   "outputs": [
    {
     "name": "stdout",
     "output_type": "stream",
     "text": [
      "[[[ 0  1  2]\n",
      "  [ 3  4  5]]\n",
      "\n",
      " [[ 6  7  8]\n",
      "  [ 9 10 11]]]\n"
     ]
    }
   ],
   "source": [
    "print(ar_3d[0:3])"
   ]
  },
  {
   "cell_type": "code",
   "execution_count": 29,
   "id": "94c9d91f",
   "metadata": {},
   "outputs": [
    {
     "name": "stdout",
     "output_type": "stream",
     "text": [
      "[[[ 0  1  2]\n",
      "  [ 3  4  5]]\n",
      "\n",
      " [[ 6  7  8]\n",
      "  [ 9 10 11]]]\n"
     ]
    }
   ],
   "source": [
    "print(ar_3d[0:2])"
   ]
  },
  {
   "cell_type": "code",
   "execution_count": 30,
   "id": "247eff3f",
   "metadata": {},
   "outputs": [
    {
     "name": "stdout",
     "output_type": "stream",
     "text": [
      "[[[0 1 2]\n",
      "  [3 4 5]]]\n"
     ]
    }
   ],
   "source": [
    "print(ar_3d[0:1])"
   ]
  },
  {
   "cell_type": "code",
   "execution_count": 3,
   "id": "bc4842fc",
   "metadata": {},
   "outputs": [
    {
     "name": "stdout",
     "output_type": "stream",
     "text": [
      "[[0.00e+000 0.00e+000 0.00e+000]\n",
      " [0.00e+000 0.00e+000 7.37e-321]\n",
      " [0.00e+000 0.00e+000 0.00e+000]]\n",
      "*************************\n",
      "[[2. 2. 2.]\n",
      " [2. 2. 2.]\n",
      " [2. 2. 2.]]\n"
     ]
    }
   ],
   "source": [
    "emp=np.empty((3,3))\n",
    "print(emp)\n",
    "print('*'*25)\n",
    "emp.fill(2)\n",
    "print(emp)"
   ]
  },
  {
   "cell_type": "code",
   "execution_count": 4,
   "id": "3a14b4b9",
   "metadata": {},
   "outputs": [
    {
     "name": "stdout",
     "output_type": "stream",
     "text": [
      "[[9.08507049e-312 3.16202013e-322 0.00000000e+000]\n",
      " [0.00000000e+000 0.00000000e+000 1.17381422e+165]\n",
      " [9.59723050e-071 4.95515898e-062 2.96184427e-032]\n",
      " [2.23044544e+160 1.34967864e+161 4.08675077e-033]]\n",
      "*************************\n",
      "[[2. 2. 2.]\n",
      " [2. 2. 2.]\n",
      " [2. 2. 2.]\n",
      " [2. 2. 2.]]\n"
     ]
    }
   ],
   "source": [
    "emp=np.empty((4,3))\n",
    "print(emp)\n",
    "print('*'*25)\n",
    "emp.fill(2)\n",
    "print(emp)"
   ]
  },
  {
   "cell_type": "code",
   "execution_count": null,
   "id": "f6ea25d7",
   "metadata": {},
   "outputs": [],
   "source": [
    "arr=np.array[1,2,3,4,5,6,7,8]\n"
   ]
  },
  {
   "cell_type": "code",
   "execution_count": 5,
   "id": "53fa300e",
   "metadata": {},
   "outputs": [
    {
     "name": "stdout",
     "output_type": "stream",
     "text": [
      "Original array is:\n",
      "[[1 2 3]\n",
      " [4 5 6]\n",
      " [7 8 9]]\n",
      "********************\n"
     ]
    }
   ],
   "source": [
    "a=np.array([[1,2,3],\n",
    "            [4,5,6],\n",
    "            [7,8,9]])\n",
    "print('Original array is:')\n",
    "print(a)\n",
    "print('*'*20)\n",
    "\n",
    "\n"
   ]
  },
  {
   "cell_type": "code",
   "execution_count": 10,
   "id": "501b69b7",
   "metadata": {},
   "outputs": [
    {
     "name": "stdout",
     "output_type": "stream",
     "text": [
      "Original array is:\n",
      "[[1 2 3]\n",
      " [4 5 6]\n",
      " [7 8 9]]\n",
      "********************\n"
     ]
    },
    {
     "data": {
      "text/plain": [
       "array([[9, 8, 7],\n",
       "       [6, 5, 4],\n",
       "       [3, 2, 1]])"
      ]
     },
     "execution_count": 10,
     "metadata": {},
     "output_type": "execute_result"
    }
   ],
   "source": [
    "a=np.array([[1,2,3],\n",
    "            [4,5,6],\n",
    "            [7,8,9]])\n",
    "print('Original array is:')\n",
    "print(a)\n",
    "print('*'*20)\n",
    "np.flip(a)\n"
   ]
  },
  {
   "cell_type": "code",
   "execution_count": 17,
   "id": "1eb3a92d",
   "metadata": {},
   "outputs": [
    {
     "name": "stdout",
     "output_type": "stream",
     "text": [
      "[[ 1  2]\n",
      " [ 3  4]\n",
      " [ 5  6]\n",
      " [ 7  8]\n",
      " [ 9 10]]\n"
     ]
    }
   ],
   "source": [
    "a=np.array([1,2,3,4,5,6,7,8,9,10])\n",
    "a1=a.reshape(5,2)\n",
    "print(a1)"
   ]
  },
  {
   "cell_type": "code",
   "execution_count": 12,
   "id": "c1a7e6e8",
   "metadata": {},
   "outputs": [
    {
     "name": "stdout",
     "output_type": "stream",
     "text": [
      "[[5 6]\n",
      " [8 9]]\n"
     ]
    }
   ],
   "source": [
    "a=np.array([[1,2,3],\n",
    "            [4,5,6],\n",
    "            [7,8,9]])\n",
    "print(a[1:,1:])"
   ]
  },
  {
   "cell_type": "code",
   "execution_count": 13,
   "id": "1fb62513",
   "metadata": {},
   "outputs": [
    {
     "name": "stdout",
     "output_type": "stream",
     "text": [
      "6\n"
     ]
    }
   ],
   "source": [
    "a=np.array([[1,2,3],\n",
    "            [4,5,6],\n",
    "            [7,8,9]])\n",
    "print(a[1][2])"
   ]
  },
  {
   "cell_type": "code",
   "execution_count": 26,
   "id": "4fccdcf3",
   "metadata": {},
   "outputs": [
    {
     "name": "stdout",
     "output_type": "stream",
     "text": [
      "[4 4 4 3 4]\n"
     ]
    }
   ],
   "source": [
    "import numpy as np\n",
    "l=np.arange(5)\n",
    "l[0:3]=4\n",
    "print(l)"
   ]
  },
  {
   "cell_type": "code",
   "execution_count": 27,
   "id": "795d2720",
   "metadata": {},
   "outputs": [
    {
     "name": "stdout",
     "output_type": "stream",
     "text": [
      "[4 4 4 3 4]\n"
     ]
    }
   ],
   "source": [
    "import numpy as np\n",
    "l=np.arange(5)\n",
    "l[0:3]=4\n",
    "print(l)"
   ]
  },
  {
   "cell_type": "code",
   "execution_count": 30,
   "id": "4f48ce2e",
   "metadata": {},
   "outputs": [
    {
     "name": "stdout",
     "output_type": "stream",
     "text": [
      "[ 0  1  2  3  4  5  6  7  8  9 10]\n"
     ]
    }
   ],
   "source": [
    "arr=np.arange(11)\n",
    "print(arr)"
   ]
  },
  {
   "cell_type": "code",
   "execution_count": 31,
   "id": "85c43379",
   "metadata": {},
   "outputs": [
    {
     "data": {
      "text/plain": [
       "array([0, 1, 2, 3, 4])"
      ]
     },
     "execution_count": 31,
     "metadata": {},
     "output_type": "execute_result"
    }
   ],
   "source": [
    "part_arr=arr[0:5]\n",
    "part_arr"
   ]
  },
  {
   "cell_type": "code",
   "execution_count": 35,
   "id": "b24b667d",
   "metadata": {},
   "outputs": [
    {
     "data": {
      "text/plain": [
       "array([6, 6, 6, 6])"
      ]
     },
     "execution_count": 35,
     "metadata": {},
     "output_type": "execute_result"
    }
   ],
   "source": [
    "part_arr=arr[5:9]\n",
    "part_arr"
   ]
  },
  {
   "cell_type": "code",
   "execution_count": 36,
   "id": "94f18c87",
   "metadata": {},
   "outputs": [
    {
     "data": {
      "text/plain": [
       "array([6, 6, 6, 6])"
      ]
     },
     "execution_count": 36,
     "metadata": {},
     "output_type": "execute_result"
    }
   ],
   "source": [
    "part_arr[:]=6\n",
    "part_arr"
   ]
  },
  {
   "cell_type": "code",
   "execution_count": 37,
   "id": "0d652c86",
   "metadata": {},
   "outputs": [
    {
     "data": {
      "text/plain": [
       "array([ 0,  1,  2,  3,  4,  6,  6,  6,  6,  9, 10])"
      ]
     },
     "execution_count": 37,
     "metadata": {},
     "output_type": "execute_result"
    }
   ],
   "source": [
    "arr"
   ]
  },
  {
   "cell_type": "code",
   "execution_count": 41,
   "id": "315d98cf",
   "metadata": {},
   "outputs": [
    {
     "name": "stdout",
     "output_type": "stream",
     "text": [
      "[2 3 4]\n"
     ]
    }
   ],
   "source": [
    "copy_arr=arr[2:5].copy()\n",
    "print(copy_arr)"
   ]
  },
  {
   "cell_type": "code",
   "execution_count": 47,
   "id": "8f7f1666",
   "metadata": {},
   "outputs": [
    {
     "data": {
      "text/plain": [
       "array([ True,  True,  True,  True,  True,  True,  True,  True,  True,\n",
       "        True,  True])"
      ]
     },
     "execution_count": 47,
     "metadata": {},
     "output_type": "execute_result"
    }
   ],
   "source": [
    "arr<45\n"
   ]
  },
  {
   "cell_type": "code",
   "execution_count": null,
   "id": "96e4ae7a",
   "metadata": {},
   "outputs": [],
   "source": []
  },
  {
   "cell_type": "code",
   "execution_count": null,
   "id": "a255b169",
   "metadata": {},
   "outputs": [],
   "source": []
  },
  {
   "cell_type": "code",
   "execution_count": null,
   "id": "1d925538",
   "metadata": {},
   "outputs": [],
   "source": []
  },
  {
   "cell_type": "code",
   "execution_count": null,
   "id": "cfd9f251",
   "metadata": {},
   "outputs": [],
   "source": []
  },
  {
   "cell_type": "code",
   "execution_count": null,
   "id": "258e4f53",
   "metadata": {},
   "outputs": [],
   "source": []
  }
 ],
 "metadata": {
  "kernelspec": {
   "display_name": "Python 3 (ipykernel)",
   "language": "python",
   "name": "python3"
  },
  "language_info": {
   "codemirror_mode": {
    "name": "ipython",
    "version": 3
   },
   "file_extension": ".py",
   "mimetype": "text/x-python",
   "name": "python",
   "nbconvert_exporter": "python",
   "pygments_lexer": "ipython3",
   "version": "3.9.12"
  }
 },
 "nbformat": 4,
 "nbformat_minor": 5
}
