{
 "cells": [
  {
   "cell_type": "code",
   "execution_count": 2,
   "id": "cda93ca0",
   "metadata": {},
   "outputs": [],
   "source": [
    "#calculating descriptive statistics\n",
    "import math\n",
    "import statistics\n",
    "import numpy as np\n",
    "import scipy.stats\n",
    "import pandas as pd"
   ]
  },
  {
   "cell_type": "code",
   "execution_count": 2,
   "id": "94635676",
   "metadata": {},
   "outputs": [
    {
     "data": {
      "text/plain": [
       "55"
      ]
     },
     "execution_count": 2,
     "metadata": {},
     "output_type": "execute_result"
    }
   ],
   "source": [
    "#mean\n",
    "x=[1,2,3,4,5,6,7,8,9,10]\n",
    "sum(x)\n"
   ]
  },
  {
   "cell_type": "code",
   "execution_count": 3,
   "id": "60d5ee1c",
   "metadata": {},
   "outputs": [
    {
     "data": {
      "text/plain": [
       "10"
      ]
     },
     "execution_count": 3,
     "metadata": {},
     "output_type": "execute_result"
    }
   ],
   "source": [
    "len(x)"
   ]
  },
  {
   "cell_type": "code",
   "execution_count": 4,
   "id": "293fdf6b",
   "metadata": {},
   "outputs": [
    {
     "data": {
      "text/plain": [
       "5.5"
      ]
     },
     "execution_count": 4,
     "metadata": {},
     "output_type": "execute_result"
    }
   ],
   "source": [
    "\n",
    "sum(x)/len(x)\n"
   ]
  },
  {
   "cell_type": "code",
   "execution_count": 5,
   "id": "bd13dc9e",
   "metadata": {},
   "outputs": [
    {
     "ename": "SyntaxError",
     "evalue": "invalid syntax (1574792782.py, line 2)",
     "output_type": "error",
     "traceback": [
      "\u001b[1;36m  Input \u001b[1;32mIn [5]\u001b[1;36m\u001b[0m\n\u001b[1;33m    The measure of central tendency show the central or middle values of datasets.These are several defintions of whats\u001b[0m\n\u001b[1;37m        ^\u001b[0m\n\u001b[1;31mSyntaxError\u001b[0m\u001b[1;31m:\u001b[0m invalid syntax\n"
     ]
    }
   ],
   "source": [
    "#meqsure of central tendency\n",
    "The measure of central tendency show the central or middle values of datasets.These are several defintions of whats\n",
    "considered to be the center of a dataset.In this tutorial,"
   ]
  },
  {
   "cell_type": "code",
   "execution_count": null,
   "id": "fd7ea01a",
   "metadata": {},
   "outputs": [],
   "source": [
    "np.mean(x)"
   ]
  },
  {
   "cell_type": "code",
   "execution_count": null,
   "id": "6ea1c982",
   "metadata": {},
   "outputs": [],
   "source": [
    "statistics.mean(x)"
   ]
  },
  {
   "cell_type": "code",
   "execution_count": null,
   "id": "1fbdb50d",
   "metadata": {},
   "outputs": [],
   "source": [
    "#median-midpoint of the ordered datasets"
   ]
  },
  {
   "cell_type": "code",
   "execution_count": null,
   "id": "df4d32c2",
   "metadata": {},
   "outputs": [],
   "source": [
    "n=np.arange(1,12,2)\n",
    "n"
   ]
  },
  {
   "cell_type": "code",
   "execution_count": null,
   "id": "d046a131",
   "metadata": {},
   "outputs": [],
   "source": [
    "median=np.median(x)\n",
    "print('Median:',median)"
   ]
  },
  {
   "cell_type": "code",
   "execution_count": null,
   "id": "c32b5601",
   "metadata": {},
   "outputs": [],
   "source": [
    "#mode - the mode is the value that occurs most often\n",
    "mo=statistics.mode([3,4,4,5,6,7,8])\n",
    "print(\"mode:\",mo)"
   ]
  },
  {
   "cell_type": "code",
   "execution_count": 6,
   "id": "8e34b199",
   "metadata": {},
   "outputs": [
    {
     "data": {
      "text/plain": [
       "ModeResult(mode=array([45]), count=array([3]))"
      ]
     },
     "execution_count": 6,
     "metadata": {},
     "output_type": "execute_result"
    }
   ],
   "source": [
    "mo1=scipy.stats.mode([34,45,56,67,78,45,54,78,45])\n",
    "mo1\n"
   ]
  },
  {
   "cell_type": "code",
   "execution_count": 7,
   "id": "5d30ff0b",
   "metadata": {},
   "outputs": [
    {
     "ename": "SyntaxError",
     "evalue": "invalid syntax (3528619158.py, line 3)",
     "output_type": "error",
     "traceback": [
      "\u001b[1;36m  Input \u001b[1;32mIn [7]\u001b[1;36m\u001b[0m\n\u001b[1;33m    the following measures\u001b[0m\n\u001b[1;37m        ^\u001b[0m\n\u001b[1;31mSyntaxError\u001b[0m\u001b[1;31m:\u001b[0m invalid syntax\n"
     ]
    }
   ],
   "source": [
    "#measures of variabilty- the measures of central tendency arent sufficient to describe data.you will also need the measures \n",
    "#of variability that qualify the spread of data points.In this section,you ll learn how to identify and calculate\n",
    "the following measures\n"
   ]
  },
  {
   "cell_type": "code",
   "execution_count": 7,
   "id": "85f00620",
   "metadata": {},
   "outputs": [
    {
     "data": {
      "text/plain": [
       "451.1388888888889"
      ]
     },
     "execution_count": 7,
     "metadata": {},
     "output_type": "execute_result"
    }
   ],
   "source": [
    "#variance- quantifies the spread of data.\n",
    "x=[34,45,67,78,89,90]\n",
    "n=len(x)\n",
    "mean=sum(x)/n\n",
    "var=sum((item-mean)**2 for item in x)/(n)\n",
    "var\n"
   ]
  },
  {
   "cell_type": "code",
   "execution_count": 8,
   "id": "f378a03d",
   "metadata": {},
   "outputs": [
    {
     "data": {
      "text/plain": [
       "23.2672874797787"
      ]
     },
     "execution_count": 8,
     "metadata": {},
     "output_type": "execute_result"
    }
   ],
   "source": [
    "#standard deviation \n",
    "std_=statistics.stdev(x)\n",
    "std_"
   ]
  },
  {
   "cell_type": "code",
   "execution_count": 9,
   "id": "fe34b3a2",
   "metadata": {},
   "outputs": [],
   "source": [
    "#skewness\n",
    "#The sample skewness measures the asymetry of a data sample"
   ]
  },
  {
   "cell_type": "code",
   "execution_count": 10,
   "id": "68636611",
   "metadata": {},
   "outputs": [
    {
     "ename": "SyntaxError",
     "evalue": "invalid syntax (1647375829.py, line 5)",
     "output_type": "error",
     "traceback": [
      "\u001b[1;36m  Input \u001b[1;32mIn [10]\u001b[1;36m\u001b[0m\n\u001b[1;33m    std=var**0.5\u001b[0m\n\u001b[1;37m    ^\u001b[0m\n\u001b[1;31mSyntaxError\u001b[0m\u001b[1;31m:\u001b[0m invalid syntax\n"
     ]
    }
   ],
   "source": [
    "x=[8.0,1,2.5,4,28.0]\n",
    "n=len(x)\n",
    "mean=sum(x)/n\n",
    "var=(sum((item-mean)**2 for item in x)/(n-1)\n",
    "std=var**0.5\n",
    "skew_=(sum((item-mean)**3 for item in x)*n/((n-1)*(n-2)*std**3))\n",
    "skew_"
   ]
  },
  {
   "cell_type": "code",
   "execution_count": 11,
   "id": "03da25f9",
   "metadata": {},
   "outputs": [
    {
     "data": {
      "text/plain": [
       "-0.5666606444216065"
      ]
     },
     "execution_count": 11,
     "metadata": {},
     "output_type": "execute_result"
    }
   ],
   "source": [
    "y=np.array(x)\n",
    "scipy.stats.skew(y, bias=False)"
   ]
  },
  {
   "cell_type": "code",
   "execution_count": null,
   "id": "adc6680e",
   "metadata": {},
   "outputs": [],
   "source": [
    "#percentiles - The sample p percentile is element in dataset that p% elements in the dataset are less than or equal to that value.\n",
    "also,(100-p)% of the elements are greater than or equal to value.\n",
    "\n",
    "first quartile- 25%\n",
    "second quartile= 50%\n",
    "third quartile -75%"
   ]
  },
  {
   "cell_type": "code",
   "execution_count": 12,
   "id": "2340f749",
   "metadata": {},
   "outputs": [
    {
     "name": "stdout",
     "output_type": "stream",
     "text": [
      "5% in the value: 36.75\n",
      "95% in the value: 89.75\n",
      "[34 45 67 78 89 90]\n"
     ]
    }
   ],
   "source": [
    "y-np.array(x)\n",
    "print('5% in the value:',np.percentile(y,5))\n",
    "print('95% in the value:',np.percentile(y,95))\n",
    "print(y)"
   ]
  },
  {
   "cell_type": "code",
   "execution_count": 13,
   "id": "a5de47b8",
   "metadata": {},
   "outputs": [
    {
     "name": "stdout",
     "output_type": "stream",
     "text": [
      "[1, 2, 3, 4, 5, 6, 7, 8, 9, 10, 11, 12, 13, 14, 15, 16, 17, 18, 19, 20, 21, 22, 23, 24, 25, 26, 27, 28, 29, 30, 31, 32, 33, 34, 35, 36, 37, 38, 39, 40, 41, 42, 43, 44, 45, 46, 47, 48, 49, 50, 51, 52, 53, 54, 55, 56, 57, 58, 59, 60, 61, 62, 63, 64, 65, 66, 67, 68, 69, 70, 71, 72, 73, 74, 75, 76, 77, 78, 79, 80, 81, 82, 83, 84, 85, 86, 87, 88, 89, 90, 91, 92, 93, 94, 95, 96, 97, 98, 99, 100]\n"
     ]
    }
   ],
   "source": [
    "x=list(range(1,101))\n",
    "print(x)"
   ]
  },
  {
   "cell_type": "code",
   "execution_count": 15,
   "id": "007485dc",
   "metadata": {},
   "outputs": [
    {
     "name": "stdout",
     "output_type": "stream",
     "text": [
      "[25.75 50.5  75.25]\n"
     ]
    }
   ],
   "source": [
    "Per=np.percentile(x,[25,50,75])\n",
    "print(Per)"
   ]
  },
  {
   "cell_type": "code",
   "execution_count": 16,
   "id": "6cdcb822",
   "metadata": {},
   "outputs": [
    {
     "data": {
      "text/plain": [
       "5.95"
      ]
     },
     "execution_count": 16,
     "metadata": {},
     "output_type": "execute_result"
    }
   ],
   "source": [
    "np.quantile(x,0.05)\n"
   ]
  },
  {
   "cell_type": "code",
   "execution_count": 19,
   "id": "78f64457",
   "metadata": {},
   "outputs": [
    {
     "data": {
      "text/plain": [
       "95.05"
      ]
     },
     "execution_count": 19,
     "metadata": {},
     "output_type": "execute_result"
    }
   ],
   "source": [
    "np.quantile(x,0.95)"
   ]
  },
  {
   "cell_type": "code",
   "execution_count": 20,
   "id": "dfa6270c",
   "metadata": {},
   "outputs": [
    {
     "data": {
      "text/plain": [
       "array([25.75, 50.5 , 75.25])"
      ]
     },
     "execution_count": 20,
     "metadata": {},
     "output_type": "execute_result"
    }
   ],
   "source": [
    "np.quantile(x,[0.25,0.5,0.75])"
   ]
  },
  {
   "cell_type": "code",
   "execution_count": null,
   "id": "bcb9bd93",
   "metadata": {},
   "outputs": [],
   "source": [
    "#range- the range of data is the difference between the maximum and minimum element in the dataset\n"
   ]
  },
  {
   "cell_type": "code",
   "execution_count": 21,
   "id": "0e49dc71",
   "metadata": {},
   "outputs": [
    {
     "data": {
      "text/plain": [
       "56"
      ]
     },
     "execution_count": 21,
     "metadata": {},
     "output_type": "execute_result"
    }
   ],
   "source": [
    "np.ptp(y)"
   ]
  },
  {
   "cell_type": "code",
   "execution_count": 23,
   "id": "e845a05f",
   "metadata": {},
   "outputs": [],
   "source": [
    "x=list(range(1,101))\n"
   ]
  },
  {
   "cell_type": "code",
   "execution_count": 24,
   "id": "0f3e9e41",
   "metadata": {},
   "outputs": [
    {
     "data": {
      "text/plain": [
       "99"
      ]
     },
     "execution_count": 24,
     "metadata": {},
     "output_type": "execute_result"
    }
   ],
   "source": [
    "max(x)-min(x)"
   ]
  },
  {
   "cell_type": "code",
   "execution_count": 25,
   "id": "cfc86d5b",
   "metadata": {},
   "outputs": [
    {
     "data": {
      "text/plain": [
       "array([34, 45, 67, 78, 89, 90])"
      ]
     },
     "execution_count": 25,
     "metadata": {},
     "output_type": "execute_result"
    }
   ],
   "source": [
    "y"
   ]
  },
  {
   "cell_type": "code",
   "execution_count": null,
   "id": "c2b4a675",
   "metadata": {},
   "outputs": [],
   "source": [
    "#Interquartile range\n",
    "BETWEEN FIRST AND THIRD QUARTILE.ONCE YOU CALCULATE QUARTILE,YOU CAN CALCULATE THE\n",
    "QUARTILE,YOU CAN TAKE THIER DIFFERENCE"
   ]
  },
  {
   "cell_type": "code",
   "execution_count": 28,
   "id": "9df7f814",
   "metadata": {},
   "outputs": [
    {
     "data": {
      "text/plain": [
       "35.75"
      ]
     },
     "execution_count": 28,
     "metadata": {},
     "output_type": "execute_result"
    }
   ],
   "source": [
    "quartiles=np.quantile(y,[0.25,0.75])\n",
    "quartiles[1]-quartiles[0]"
   ]
  },
  {
   "cell_type": "code",
   "execution_count": 29,
   "id": "33bfde59",
   "metadata": {},
   "outputs": [
    {
     "data": {
      "text/plain": [
       "0.2749999999999986"
      ]
     },
     "execution_count": 29,
     "metadata": {},
     "output_type": "execute_result"
    }
   ],
   "source": [
    "quartiles=np.percentile(y,[0.25,0.75])\n",
    "quartiles[1]-quartiles[0]"
   ]
  },
  {
   "cell_type": "code",
   "execution_count": null,
   "id": "d75b78d6",
   "metadata": {},
   "outputs": [],
   "source": [
    "#summary of descriptive statistics\n",
    "scipy and pandas offer useful routines to quickly get descriptive statistics with a single function or method call"
   ]
  },
  {
   "cell_type": "code",
   "execution_count": 30,
   "id": "afbf6f1f",
   "metadata": {},
   "outputs": [
    {
     "name": "stdout",
     "output_type": "stream",
     "text": [
      "DescribeResult(nobs=6, minmax=(34, 90), mean=67.16666666666667, variance=541.3666666666667, skewness=-0.5666606444216065, kurtosis=-1.5583190801689135)\n"
     ]
    }
   ],
   "source": [
    "result=scipy.stats.describe(y,ddof=1,bias=False)\n",
    "print(result)"
   ]
  },
  {
   "cell_type": "code",
   "execution_count": 31,
   "id": "10f1d85a",
   "metadata": {},
   "outputs": [
    {
     "data": {
      "text/plain": [
       "6"
      ]
     },
     "execution_count": 31,
     "metadata": {},
     "output_type": "execute_result"
    }
   ],
   "source": [
    "result.nobs"
   ]
  },
  {
   "cell_type": "code",
   "execution_count": 32,
   "id": "a6ec0915",
   "metadata": {},
   "outputs": [
    {
     "data": {
      "text/plain": [
       "34"
      ]
     },
     "execution_count": 32,
     "metadata": {},
     "output_type": "execute_result"
    }
   ],
   "source": [
    "result.minmax[0]"
   ]
  },
  {
   "cell_type": "code",
   "execution_count": 33,
   "id": "7738ca1d",
   "metadata": {},
   "outputs": [
    {
     "data": {
      "text/plain": [
       "90"
      ]
     },
     "execution_count": 33,
     "metadata": {},
     "output_type": "execute_result"
    }
   ],
   "source": [
    "result.minmax[1]"
   ]
  },
  {
   "cell_type": "code",
   "execution_count": 34,
   "id": "a0430bc6",
   "metadata": {},
   "outputs": [
    {
     "data": {
      "text/plain": [
       "67.16666666666667"
      ]
     },
     "execution_count": 34,
     "metadata": {},
     "output_type": "execute_result"
    }
   ],
   "source": [
    "result.mean"
   ]
  },
  {
   "cell_type": "code",
   "execution_count": 35,
   "id": "45b86a19",
   "metadata": {},
   "outputs": [
    {
     "data": {
      "text/plain": [
       "541.3666666666667"
      ]
     },
     "execution_count": 35,
     "metadata": {},
     "output_type": "execute_result"
    }
   ],
   "source": [
    "result.variance"
   ]
  },
  {
   "cell_type": "code",
   "execution_count": 36,
   "id": "c89408bf",
   "metadata": {},
   "outputs": [
    {
     "data": {
      "text/plain": [
       "-0.5666606444216065"
      ]
     },
     "execution_count": 36,
     "metadata": {},
     "output_type": "execute_result"
    }
   ],
   "source": [
    "result.skewness"
   ]
  },
  {
   "cell_type": "code",
   "execution_count": 37,
   "id": "7851129c",
   "metadata": {},
   "outputs": [
    {
     "data": {
      "text/plain": [
       "-1.5583190801689135"
      ]
     },
     "execution_count": 37,
     "metadata": {},
     "output_type": "execute_result"
    }
   ],
   "source": [
    "result.kurtosis"
   ]
  },
  {
   "cell_type": "code",
   "execution_count": null,
   "id": "37fe76a0",
   "metadata": {},
   "outputs": [],
   "source": [
    "#correlation\n"
   ]
  },
  {
   "cell_type": "code",
   "execution_count": 49,
   "id": "19455df3",
   "metadata": {},
   "outputs": [],
   "source": [
    "x=list(range(-10,11))\n",
    "y=[0,2,2,2,2,3,3,6,7,4,7,6,6,9,4,7,6,6,9,8,7]\n",
    "x1,y1=np.array(x),np.array(y)\n",
    "x11,y11=pd.Series(x1),pd.Series(y1)"
   ]
  },
  {
   "cell_type": "code",
   "execution_count": 50,
   "id": "82294289",
   "metadata": {},
   "outputs": [
    {
     "data": {
      "text/plain": [
       "0.8282328498409207"
      ]
     },
     "execution_count": 50,
     "metadata": {},
     "output_type": "execute_result"
    }
   ],
   "source": [
    "x11.corr(y11)"
   ]
  },
  {
   "cell_type": "code",
   "execution_count": 51,
   "id": "1b63e93f",
   "metadata": {},
   "outputs": [],
   "source": [
    "#covariance"
   ]
  },
  {
   "cell_type": "code",
   "execution_count": 52,
   "id": "cf50d741",
   "metadata": {},
   "outputs": [
    {
     "data": {
      "text/plain": [
       "array([[38.5       , 13.25      ],\n",
       "       [13.25      ,  6.64761905]])"
      ]
     },
     "execution_count": 52,
     "metadata": {},
     "output_type": "execute_result"
    }
   ],
   "source": [
    "cov_matrix=np.cov(x11,y11)\n",
    "cov_matrix"
   ]
  },
  {
   "cell_type": "code",
   "execution_count": 53,
   "id": "1e0bf861",
   "metadata": {},
   "outputs": [
    {
     "data": {
      "text/plain": [
       "6.6476190476190515"
      ]
     },
     "execution_count": 53,
     "metadata": {},
     "output_type": "execute_result"
    }
   ],
   "source": [
    "cov_xy=x11.cov(x11)\n",
    "cov_xy\n",
    "\n",
    "cov_xy=y11.cov(y11)\n",
    "cov_xy"
   ]
  },
  {
   "cell_type": "code",
   "execution_count": null,
   "id": "c9d660d3",
   "metadata": {},
   "outputs": [],
   "source": [
    "#co relation coefficient - is another measure of the corelation between data.\n"
   ]
  },
  {
   "cell_type": "code",
   "execution_count": 59,
   "id": "9cf49846",
   "metadata": {},
   "outputs": [],
   "source": [
    "x=list(range(-10,11))\n",
    "y=[0,2,2,2,2,3,3,6,4,7,6,6,9,4,5,5,10,11,12,14,9]\n",
    "x1,y1=np.array(x),np.array(y)\n",
    "x11,y11=pd.Series(x1),pd.Series(y1)"
   ]
  },
  {
   "cell_type": "code",
   "execution_count": 60,
   "id": "3e13fcbd",
   "metadata": {},
   "outputs": [
    {
     "data": {
      "text/plain": [
       "(0.871801225289737, 2.639223744627809e-07)"
      ]
     },
     "execution_count": 60,
     "metadata": {},
     "output_type": "execute_result"
    }
   ],
   "source": [
    "r,p=scipy.stats.pearsonr(x11,y11)\n",
    "r,p"
   ]
  },
  {
   "cell_type": "code",
   "execution_count": null,
   "id": "de0d1ca0",
   "metadata": {},
   "outputs": [],
   "source": [
    "var_x=sum((item-np.mean(x))**2 for item in x))/(n-1)\n",
    "var_y=sum((item-np.mean(x))** \n"
   ]
  },
  {
   "cell_type": "code",
   "execution_count": 61,
   "id": "dc650246",
   "metadata": {},
   "outputs": [],
   "source": [
    "import seaborn as sns\n"
   ]
  },
  {
   "cell_type": "code",
   "execution_count": 63,
   "id": "cdddd155",
   "metadata": {},
   "outputs": [],
   "source": [
    "titanic=pd.DataFrame(sns.load_dataset('titanic'))"
   ]
  },
  {
   "cell_type": "code",
   "execution_count": 64,
   "id": "64925f98",
   "metadata": {},
   "outputs": [
    {
     "data": {
      "text/html": [
       "<div>\n",
       "<style scoped>\n",
       "    .dataframe tbody tr th:only-of-type {\n",
       "        vertical-align: middle;\n",
       "    }\n",
       "\n",
       "    .dataframe tbody tr th {\n",
       "        vertical-align: top;\n",
       "    }\n",
       "\n",
       "    .dataframe thead th {\n",
       "        text-align: right;\n",
       "    }\n",
       "</style>\n",
       "<table border=\"1\" class=\"dataframe\">\n",
       "  <thead>\n",
       "    <tr style=\"text-align: right;\">\n",
       "      <th></th>\n",
       "      <th>survived</th>\n",
       "      <th>pclass</th>\n",
       "      <th>sex</th>\n",
       "      <th>age</th>\n",
       "      <th>sibsp</th>\n",
       "      <th>parch</th>\n",
       "      <th>fare</th>\n",
       "      <th>embarked</th>\n",
       "      <th>class</th>\n",
       "      <th>who</th>\n",
       "      <th>adult_male</th>\n",
       "      <th>deck</th>\n",
       "      <th>embark_town</th>\n",
       "      <th>alive</th>\n",
       "      <th>alone</th>\n",
       "    </tr>\n",
       "  </thead>\n",
       "  <tbody>\n",
       "    <tr>\n",
       "      <th>0</th>\n",
       "      <td>0</td>\n",
       "      <td>3</td>\n",
       "      <td>male</td>\n",
       "      <td>22.0</td>\n",
       "      <td>1</td>\n",
       "      <td>0</td>\n",
       "      <td>7.2500</td>\n",
       "      <td>S</td>\n",
       "      <td>Third</td>\n",
       "      <td>man</td>\n",
       "      <td>True</td>\n",
       "      <td>NaN</td>\n",
       "      <td>Southampton</td>\n",
       "      <td>no</td>\n",
       "      <td>False</td>\n",
       "    </tr>\n",
       "    <tr>\n",
       "      <th>1</th>\n",
       "      <td>1</td>\n",
       "      <td>1</td>\n",
       "      <td>female</td>\n",
       "      <td>38.0</td>\n",
       "      <td>1</td>\n",
       "      <td>0</td>\n",
       "      <td>71.2833</td>\n",
       "      <td>C</td>\n",
       "      <td>First</td>\n",
       "      <td>woman</td>\n",
       "      <td>False</td>\n",
       "      <td>C</td>\n",
       "      <td>Cherbourg</td>\n",
       "      <td>yes</td>\n",
       "      <td>False</td>\n",
       "    </tr>\n",
       "    <tr>\n",
       "      <th>2</th>\n",
       "      <td>1</td>\n",
       "      <td>3</td>\n",
       "      <td>female</td>\n",
       "      <td>26.0</td>\n",
       "      <td>0</td>\n",
       "      <td>0</td>\n",
       "      <td>7.9250</td>\n",
       "      <td>S</td>\n",
       "      <td>Third</td>\n",
       "      <td>woman</td>\n",
       "      <td>False</td>\n",
       "      <td>NaN</td>\n",
       "      <td>Southampton</td>\n",
       "      <td>yes</td>\n",
       "      <td>True</td>\n",
       "    </tr>\n",
       "    <tr>\n",
       "      <th>3</th>\n",
       "      <td>1</td>\n",
       "      <td>1</td>\n",
       "      <td>female</td>\n",
       "      <td>35.0</td>\n",
       "      <td>1</td>\n",
       "      <td>0</td>\n",
       "      <td>53.1000</td>\n",
       "      <td>S</td>\n",
       "      <td>First</td>\n",
       "      <td>woman</td>\n",
       "      <td>False</td>\n",
       "      <td>C</td>\n",
       "      <td>Southampton</td>\n",
       "      <td>yes</td>\n",
       "      <td>False</td>\n",
       "    </tr>\n",
       "    <tr>\n",
       "      <th>4</th>\n",
       "      <td>0</td>\n",
       "      <td>3</td>\n",
       "      <td>male</td>\n",
       "      <td>35.0</td>\n",
       "      <td>0</td>\n",
       "      <td>0</td>\n",
       "      <td>8.0500</td>\n",
       "      <td>S</td>\n",
       "      <td>Third</td>\n",
       "      <td>man</td>\n",
       "      <td>True</td>\n",
       "      <td>NaN</td>\n",
       "      <td>Southampton</td>\n",
       "      <td>no</td>\n",
       "      <td>True</td>\n",
       "    </tr>\n",
       "  </tbody>\n",
       "</table>\n",
       "</div>"
      ],
      "text/plain": [
       "   survived  pclass     sex   age  sibsp  parch     fare embarked  class  \\\n",
       "0         0       3    male  22.0      1      0   7.2500        S  Third   \n",
       "1         1       1  female  38.0      1      0  71.2833        C  First   \n",
       "2         1       3  female  26.0      0      0   7.9250        S  Third   \n",
       "3         1       1  female  35.0      1      0  53.1000        S  First   \n",
       "4         0       3    male  35.0      0      0   8.0500        S  Third   \n",
       "\n",
       "     who  adult_male deck  embark_town alive  alone  \n",
       "0    man        True  NaN  Southampton    no  False  \n",
       "1  woman       False    C    Cherbourg   yes  False  \n",
       "2  woman       False  NaN  Southampton   yes   True  \n",
       "3  woman       False    C  Southampton   yes  False  \n",
       "4    man        True  NaN  Southampton    no   True  "
      ]
     },
     "execution_count": 64,
     "metadata": {},
     "output_type": "execute_result"
    }
   ],
   "source": [
    "titanic.head()"
   ]
  },
  {
   "cell_type": "code",
   "execution_count": 65,
   "id": "5ab857b6",
   "metadata": {},
   "outputs": [],
   "source": [
    "titanic.dropna(inplace=True)"
   ]
  },
  {
   "cell_type": "code",
   "execution_count": 66,
   "id": "34fe32df",
   "metadata": {},
   "outputs": [
    {
     "data": {
      "text/plain": [
       "35.62318681318681"
      ]
     },
     "execution_count": 66,
     "metadata": {},
     "output_type": "execute_result"
    }
   ],
   "source": [
    "titanic.age.mean()"
   ]
  },
  {
   "cell_type": "code",
   "execution_count": 67,
   "id": "0500eaf7",
   "metadata": {},
   "outputs": [
    {
     "data": {
      "text/plain": [
       "0    36.0\n",
       "Name: age, dtype: float64"
      ]
     },
     "execution_count": 67,
     "metadata": {},
     "output_type": "execute_result"
    }
   ],
   "source": [
    "titanic.age.mode()"
   ]
  },
  {
   "cell_type": "code",
   "execution_count": 68,
   "id": "b0e96412",
   "metadata": {},
   "outputs": [
    {
     "data": {
      "text/plain": [
       "36.0"
      ]
     },
     "execution_count": 68,
     "metadata": {},
     "output_type": "execute_result"
    }
   ],
   "source": [
    "titanic.age.median()"
   ]
  },
  {
   "cell_type": "code",
   "execution_count": 69,
   "id": "0ff4aeda",
   "metadata": {},
   "outputs": [
    {
     "data": {
      "text/plain": [
       "245.5995279096593"
      ]
     },
     "execution_count": 69,
     "metadata": {},
     "output_type": "execute_result"
    }
   ],
   "source": [
    "titanic.age.var()"
   ]
  },
  {
   "cell_type": "code",
   "execution_count": 70,
   "id": "b3bdfe5a",
   "metadata": {},
   "outputs": [
    {
     "data": {
      "text/plain": [
       "15.6716153573797"
      ]
     },
     "execution_count": 70,
     "metadata": {},
     "output_type": "execute_result"
    }
   ],
   "source": [
    "titanic.age.std()"
   ]
  },
  {
   "cell_type": "code",
   "execution_count": 71,
   "id": "f622ba3a",
   "metadata": {},
   "outputs": [
    {
     "data": {
      "text/plain": [
       "0.01841894050949508"
      ]
     },
     "execution_count": 71,
     "metadata": {},
     "output_type": "execute_result"
    }
   ],
   "source": [
    "titanic.age.skew()"
   ]
  },
  {
   "cell_type": "code",
   "execution_count": 73,
   "id": "b404d89b",
   "metadata": {},
   "outputs": [
    {
     "data": {
      "text/plain": [
       "<AxesSubplot:xlabel='age', ylabel='Count'>"
      ]
     },
     "execution_count": 73,
     "metadata": {},
     "output_type": "execute_result"
    },
    {
     "data": {
      "image/png": "[encoded data removed]",
      "text/plain": [
       "<Figure size 432x288 with 1 Axes>"
      ]
     },
     "metadata": {
      "needs_background": "light"
     },
     "output_type": "display_data"
    }
   ],
   "source": [
    "sns.histplot(titanic,x='age',kde=True)"
   ]
  },
  {
   "cell_type": "code",
   "execution_count": 75,
   "id": "e93730aa",
   "metadata": {},
   "outputs": [
    {
     "name": "stderr",
     "output_type": "stream",
     "text": [
      "C:\\Users\\Abdul\\anaconda3\\lib\\site-packages\\seaborn\\_decorators.py:36: FutureWarning: Pass the following variable as a keyword arg: x. From version 0.12, the only valid positional argument will be `data`, and passing other arguments without an explicit keyword will result in an error or misinterpretation.\n",
      "  warnings.warn(\n"
     ]
    },
    {
     "data": {
      "text/plain": [
       "<AxesSubplot:xlabel='fare'>"
      ]
     },
     "execution_count": 75,
     "metadata": {},
     "output_type": "execute_result"
    },
    {
     "data": {
      "image/png": "[encoded data removed]",
      "text/plain": [
       "<Figure size 432x288 with 1 Axes>"
      ]
     },
     "metadata": {
      "needs_background": "light"
     },
     "output_type": "display_data"
    }
   ],
   "source": [
    "sns.boxplot(titanic.fare)"
   ]
  },
  {
   "cell_type": "code",
   "execution_count": 76,
   "id": "b975cc52",
   "metadata": {},
   "outputs": [
    {
     "data": {
      "text/html": [
       "<div>\n",
       "<style scoped>\n",
       "    .dataframe tbody tr th:only-of-type {\n",
       "        vertical-align: middle;\n",
       "    }\n",
       "\n",
       "    .dataframe tbody tr th {\n",
       "        vertical-align: top;\n",
       "    }\n",
       "\n",
       "    .dataframe thead th {\n",
       "        text-align: right;\n",
       "    }\n",
       "</style>\n",
       "<table border=\"1\" class=\"dataframe\">\n",
       "  <thead>\n",
       "    <tr style=\"text-align: right;\">\n",
       "      <th></th>\n",
       "      <th>survived</th>\n",
       "      <th>pclass</th>\n",
       "      <th>age</th>\n",
       "      <th>sibsp</th>\n",
       "      <th>parch</th>\n",
       "      <th>fare</th>\n",
       "      <th>adult_male</th>\n",
       "      <th>alone</th>\n",
       "    </tr>\n",
       "  </thead>\n",
       "  <tbody>\n",
       "    <tr>\n",
       "      <th>survived</th>\n",
       "      <td>1.000000</td>\n",
       "      <td>-0.037698</td>\n",
       "      <td>-0.251045</td>\n",
       "      <td>0.101376</td>\n",
       "      <td>0.018739</td>\n",
       "      <td>0.130632</td>\n",
       "      <td>-0.582727</td>\n",
       "      <td>-0.111827</td>\n",
       "    </tr>\n",
       "    <tr>\n",
       "      <th>pclass</th>\n",
       "      <td>-0.037698</td>\n",
       "      <td>1.000000</td>\n",
       "      <td>-0.305708</td>\n",
       "      <td>-0.105262</td>\n",
       "      <td>0.046273</td>\n",
       "      <td>-0.316796</td>\n",
       "      <td>-0.122403</td>\n",
       "      <td>0.064678</td>\n",
       "    </tr>\n",
       "    <tr>\n",
       "      <th>age</th>\n",
       "      <td>-0.251045</td>\n",
       "      <td>-0.305708</td>\n",
       "      <td>1.000000</td>\n",
       "      <td>-0.154160</td>\n",
       "      <td>-0.269757</td>\n",
       "      <td>-0.090730</td>\n",
       "      <td>0.338384</td>\n",
       "      <td>0.203460</td>\n",
       "    </tr>\n",
       "    <tr>\n",
       "      <th>sibsp</th>\n",
       "      <td>0.101376</td>\n",
       "      <td>-0.105262</td>\n",
       "      <td>-0.154160</td>\n",
       "      <td>1.000000</td>\n",
       "      <td>0.253478</td>\n",
       "      <td>0.284841</td>\n",
       "      <td>-0.147610</td>\n",
       "      <td>-0.628796</td>\n",
       "    </tr>\n",
       "    <tr>\n",
       "      <th>parch</th>\n",
       "      <td>0.018739</td>\n",
       "      <td>0.046273</td>\n",
       "      <td>-0.269757</td>\n",
       "      <td>0.253478</td>\n",
       "      <td>1.000000</td>\n",
       "      <td>0.388540</td>\n",
       "      <td>-0.183689</td>\n",
       "      <td>-0.549197</td>\n",
       "    </tr>\n",
       "    <tr>\n",
       "      <th>fare</th>\n",
       "      <td>0.130632</td>\n",
       "      <td>-0.316796</td>\n",
       "      <td>-0.090730</td>\n",
       "      <td>0.284841</td>\n",
       "      <td>0.388540</td>\n",
       "      <td>1.000000</td>\n",
       "      <td>-0.114147</td>\n",
       "      <td>-0.298233</td>\n",
       "    </tr>\n",
       "    <tr>\n",
       "      <th>adult_male</th>\n",
       "      <td>-0.582727</td>\n",
       "      <td>-0.122403</td>\n",
       "      <td>0.338384</td>\n",
       "      <td>-0.147610</td>\n",
       "      <td>-0.183689</td>\n",
       "      <td>-0.114147</td>\n",
       "      <td>1.000000</td>\n",
       "      <td>0.193695</td>\n",
       "    </tr>\n",
       "    <tr>\n",
       "      <th>alone</th>\n",
       "      <td>-0.111827</td>\n",
       "      <td>0.064678</td>\n",
       "      <td>0.203460</td>\n",
       "      <td>-0.628796</td>\n",
       "      <td>-0.549197</td>\n",
       "      <td>-0.298233</td>\n",
       "      <td>0.193695</td>\n",
       "      <td>1.000000</td>\n",
       "    </tr>\n",
       "  </tbody>\n",
       "</table>\n",
       "</div>"
      ],
      "text/plain": [
       "            survived    pclass       age     sibsp     parch      fare  \\\n",
       "survived    1.000000 -0.037698 -0.251045  0.101376  0.018739  0.130632   \n",
       "pclass     -0.037698  1.000000 -0.305708 -0.105262  0.046273 -0.316796   \n",
       "age        -0.251045 -0.305708  1.000000 -0.154160 -0.269757 -0.090730   \n",
       "sibsp       0.101376 -0.105262 -0.154160  1.000000  0.253478  0.284841   \n",
       "parch       0.018739  0.046273 -0.269757  0.253478  1.000000  0.388540   \n",
       "fare        0.130632 -0.316796 -0.090730  0.284841  0.388540  1.000000   \n",
       "adult_male -0.582727 -0.122403  0.338384 -0.147610 -0.183689 -0.114147   \n",
       "alone      -0.111827  0.064678  0.203460 -0.628796 -0.549197 -0.298233   \n",
       "\n",
       "            adult_male     alone  \n",
       "survived     -0.582727 -0.111827  \n",
       "pclass       -0.122403  0.064678  \n",
       "age           0.338384  0.203460  \n",
       "sibsp        -0.147610 -0.628796  \n",
       "parch        -0.183689 -0.549197  \n",
       "fare         -0.114147 -0.298233  \n",
       "adult_male    1.000000  0.193695  \n",
       "alone         0.193695  1.000000  "
      ]
     },
     "execution_count": 76,
     "metadata": {},
     "output_type": "execute_result"
    }
   ],
   "source": [
    "titanic.corr()"
   ]
  },
  {
   "cell_type": "code",
   "execution_count": 77,
   "id": "5f939aa5",
   "metadata": {},
   "outputs": [
    {
     "data": {
      "text/plain": [
       "<AxesSubplot:>"
      ]
     },
     "execution_count": 77,
     "metadata": {},
     "output_type": "execute_result"
    },
    {
     "data": {
      "image/png": "[encoded data removed]",
      "text/plain": [
       "<Figure size 432x288 with 2 Axes>"
      ]
     },
     "metadata": {
      "needs_background": "light"
     },
     "output_type": "display_data"
    }
   ],
   "source": [
    "sns.heatmap(titanic.corr())"
   ]
  },
  {
   "cell_type": "code",
   "execution_count": 78,
   "id": "15c4b21e",
   "metadata": {},
   "outputs": [
    {
     "data": {
      "text/html": [
       "<div>\n",
       "<style scoped>\n",
       "    .dataframe tbody tr th:only-of-type {\n",
       "        vertical-align: middle;\n",
       "    }\n",
       "\n",
       "    .dataframe tbody tr th {\n",
       "        vertical-align: top;\n",
       "    }\n",
       "\n",
       "    .dataframe thead th {\n",
       "        text-align: right;\n",
       "    }\n",
       "</style>\n",
       "<table border=\"1\" class=\"dataframe\">\n",
       "  <thead>\n",
       "    <tr style=\"text-align: right;\">\n",
       "      <th></th>\n",
       "      <th>survived</th>\n",
       "      <th>pclass</th>\n",
       "      <th>age</th>\n",
       "      <th>sibsp</th>\n",
       "      <th>parch</th>\n",
       "      <th>fare</th>\n",
       "      <th>adult_male</th>\n",
       "      <th>alone</th>\n",
       "    </tr>\n",
       "  </thead>\n",
       "  <tbody>\n",
       "    <tr>\n",
       "      <th>survived</th>\n",
       "      <td>0.220296</td>\n",
       "      <td>-0.009137</td>\n",
       "      <td>-1.846586</td>\n",
       "      <td>0.030690</td>\n",
       "      <td>0.006648</td>\n",
       "      <td>4.689882</td>\n",
       "      <td>-0.136998</td>\n",
       "      <td>-0.026046</td>\n",
       "    </tr>\n",
       "    <tr>\n",
       "      <th>pclass</th>\n",
       "      <td>-0.009137</td>\n",
       "      <td>0.266681</td>\n",
       "      <td>-2.474097</td>\n",
       "      <td>-0.035062</td>\n",
       "      <td>0.018062</td>\n",
       "      <td>-12.513669</td>\n",
       "      <td>-0.031662</td>\n",
       "      <td>0.016575</td>\n",
       "    </tr>\n",
       "    <tr>\n",
       "      <th>age</th>\n",
       "      <td>-1.846586</td>\n",
       "      <td>-2.474097</td>\n",
       "      <td>245.599528</td>\n",
       "      <td>-1.558292</td>\n",
       "      <td>-3.195454</td>\n",
       "      <td>-108.761571</td>\n",
       "      <td>2.656258</td>\n",
       "      <td>1.582273</td>\n",
       "    </tr>\n",
       "    <tr>\n",
       "      <th>sibsp</th>\n",
       "      <td>0.030690</td>\n",
       "      <td>-0.035062</td>\n",
       "      <td>-1.558292</td>\n",
       "      <td>0.416034</td>\n",
       "      <td>0.123581</td>\n",
       "      <td>14.053211</td>\n",
       "      <td>-0.047690</td>\n",
       "      <td>-0.201263</td>\n",
       "    </tr>\n",
       "    <tr>\n",
       "      <th>parch</th>\n",
       "      <td>0.006648</td>\n",
       "      <td>0.018062</td>\n",
       "      <td>-3.195454</td>\n",
       "      <td>0.123581</td>\n",
       "      <td>0.571338</td>\n",
       "      <td>22.464224</td>\n",
       "      <td>-0.069546</td>\n",
       "      <td>-0.205998</td>\n",
       "    </tr>\n",
       "    <tr>\n",
       "      <th>fare</th>\n",
       "      <td>4.689882</td>\n",
       "      <td>-12.513669</td>\n",
       "      <td>-108.761571</td>\n",
       "      <td>14.053211</td>\n",
       "      <td>22.464224</td>\n",
       "      <td>5850.838509</td>\n",
       "      <td>-4.373412</td>\n",
       "      <td>-11.320199</td>\n",
       "    </tr>\n",
       "    <tr>\n",
       "      <th>adult_male</th>\n",
       "      <td>-0.136998</td>\n",
       "      <td>-0.031662</td>\n",
       "      <td>2.656258</td>\n",
       "      <td>-0.047690</td>\n",
       "      <td>-0.069546</td>\n",
       "      <td>-4.373412</td>\n",
       "      <td>0.250896</td>\n",
       "      <td>0.048145</td>\n",
       "    </tr>\n",
       "    <tr>\n",
       "      <th>alone</th>\n",
       "      <td>-0.026046</td>\n",
       "      <td>0.016575</td>\n",
       "      <td>1.582273</td>\n",
       "      <td>-0.201263</td>\n",
       "      <td>-0.205998</td>\n",
       "      <td>-11.320199</td>\n",
       "      <td>0.048145</td>\n",
       "      <td>0.246251</td>\n",
       "    </tr>\n",
       "  </tbody>\n",
       "</table>\n",
       "</div>"
      ],
      "text/plain": [
       "            survived     pclass         age      sibsp      parch  \\\n",
       "survived    0.220296  -0.009137   -1.846586   0.030690   0.006648   \n",
       "pclass     -0.009137   0.266681   -2.474097  -0.035062   0.018062   \n",
       "age        -1.846586  -2.474097  245.599528  -1.558292  -3.195454   \n",
       "sibsp       0.030690  -0.035062   -1.558292   0.416034   0.123581   \n",
       "parch       0.006648   0.018062   -3.195454   0.123581   0.571338   \n",
       "fare        4.689882 -12.513669 -108.761571  14.053211  22.464224   \n",
       "adult_male -0.136998  -0.031662    2.656258  -0.047690  -0.069546   \n",
       "alone      -0.026046   0.016575    1.582273  -0.201263  -0.205998   \n",
       "\n",
       "                   fare  adult_male      alone  \n",
       "survived       4.689882   -0.136998  -0.026046  \n",
       "pclass       -12.513669   -0.031662   0.016575  \n",
       "age         -108.761571    2.656258   1.582273  \n",
       "sibsp         14.053211   -0.047690  -0.201263  \n",
       "parch         22.464224   -0.069546  -0.205998  \n",
       "fare        5850.838509   -4.373412 -11.320199  \n",
       "adult_male    -4.373412    0.250896   0.048145  \n",
       "alone        -11.320199    0.048145   0.246251  "
      ]
     },
     "execution_count": 78,
     "metadata": {},
     "output_type": "execute_result"
    }
   ],
   "source": [
    "titanic.cov()"
   ]
  },
  {
   "cell_type": "code",
   "execution_count": 79,
   "id": "0239722f",
   "metadata": {},
   "outputs": [
    {
     "data": {
      "text/plain": [
       "<AxesSubplot:>"
      ]
     },
     "execution_count": 79,
     "metadata": {},
     "output_type": "execute_result"
    },
    {
     "data": {
      "image/png": "[encoded data removed]",
      "text/plain": [
       "<Figure size 432x288 with 2 Axes>"
      ]
     },
     "metadata": {
      "needs_background": "light"
     },
     "output_type": "display_data"
    }
   ],
   "source": [
    "sns.heatmap(titanic.cov())"
   ]
  },
  {
   "cell_type": "code",
   "execution_count": null,
   "id": "c19082cf",
   "metadata": {},
   "outputs": [],
   "source": []
  },
  {
   "cell_type": "code",
   "execution_count": null,
   "id": "7231e722",
   "metadata": {},
   "outputs": [],
   "source": []
  },
  {
   "cell_type": "code",
   "execution_count": null,
   "id": "fa42b896",
   "metadata": {},
   "outputs": [],
   "source": []
  }
 ],
 "metadata": {
  "kernelspec": {
   "display_name": "Python 3 (ipykernel)",
   "language": "python",
   "name": "python3"
  },
  "language_info": {
   "codemirror_mode": {
    "name": "ipython",
    "version": 3
   },
   "file_extension": ".py",
   "mimetype": "text/x-python",
   "name": "python",
   "nbconvert_exporter": "python",
   "pygments_lexer": "ipython3",
   "version": "3.9.12"
  }
 },
 "nbformat": 4,
 "nbformat_minor": 5
}
